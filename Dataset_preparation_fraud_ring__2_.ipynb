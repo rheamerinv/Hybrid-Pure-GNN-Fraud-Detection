{
  "nbformat": 4,
  "nbformat_minor": 0,
  "metadata": {
    "colab": {
      "provenance": []
    },
    "kernelspec": {
      "name": "python3",
      "display_name": "Python 3"
    },
    "language_info": {
      "name": "python"
    }
  },
  "cells": [
    {
      "cell_type": "code",
      "source": [
        "import pandas as pd\n",
        "import numpy as np\n",
        "from sklearn.preprocessing import StandardScaler\n",
        "\n"
      ],
      "metadata": {
        "id": "7undyTm3ztfx"
      },
      "execution_count": null,
      "outputs": []
    },
    {
      "cell_type": "code",
      "source": [
        "df = pd.read_csv('paysim.csv')  # adjust path\n",
        "print(f\"Original dataset: {df.shape[0]} rows\")\n"
      ],
      "metadata": {
        "colab": {
          "base_uri": "https://localhost:8080/"
        },
        "id": "ZkmhSDdPGpBb",
        "outputId": "92e06f38-068b-4c72-fca3-40a9f5c3d408"
      },
      "execution_count": null,
      "outputs": [
        {
          "output_type": "stream",
          "name": "stdout",
          "text": [
            "Original dataset: 6362620 rows\n"
          ]
        }
      ]
    },
    {
      "cell_type": "code",
      "source": [
        "fraud_df = df[df['isFraud'] == 1]\n",
        "nonfraud_df = df[df['isFraud'] == 0].sample(50000 - len(fraud_df), random_state=42)\n",
        "df_subset = pd.concat([fraud_df, nonfraud_df], ignore_index=True)\n",
        "df_subset = df_subset.sample(frac=1, random_state=42).reset_index(drop=True)\n",
        "print(f\"Subset dataset: {df_subset.shape[0]} rows, fraud proportion: {df_subset['isFraud'].mean():.4f}\")"
      ],
      "metadata": {
        "colab": {
          "base_uri": "https://localhost:8080/"
        },
        "id": "_-wMzAFdzvEi",
        "outputId": "1fb57b36-83bd-44bd-c84b-d2d0b0023594"
      },
      "execution_count": null,
      "outputs": [
        {
          "output_type": "stream",
          "name": "stdout",
          "text": [
            "Subset dataset: 50000 rows, fraud proportion: 0.1643\n"
          ]
        }
      ]
    },
    {
      "cell_type": "code",
      "source": [
        "df_subset['hour'] = df_subset['step'] % 24\n",
        "df_subset['day'] = df_subset['step'] // 24\n",
        "df_subset['day_of_month'] = (df_subset['day'] % 31) + 1\n"
      ],
      "metadata": {
        "id": "UHusdbSLzzqv"
      },
      "execution_count": null,
      "outputs": []
    },
    {
      "cell_type": "code",
      "source": [
        "def add_fraud_rings_paysim(df: pd.DataFrame, n_rings: int = 5,\n",
        "                            min_ring_len: int = 3, max_ring_len: int = 6,\n",
        "                            amount_range=(1000, 10000)):\n",
        "    fake_tx = []\n",
        "\n",
        "    # Starting IDs\n",
        "    existing_cust_ids = df['nameOrig'].str.extract(r'C(\\d+)').dropna().astype(int)\n",
        "    next_cust_id = existing_cust_ids.max()[0] + 1 if not existing_cust_ids.empty else 100000000\n",
        "    start_step = df['step'].max() + 1\n",
        "\n",
        "    for _ in range(n_rings):\n",
        "        ring_len = np.random.randint(min_ring_len, max_ring_len + 1)\n",
        "        ring_accounts = [f\"C{int(next_cust_id + i):09d}\" for i in range(ring_len)]\n",
        "        next_cust_id += ring_len\n",
        "\n",
        "        steps = start_step + np.cumsum(np.random.randint(1, 5, size=ring_len))\n",
        "        amount = np.random.uniform(*amount_range)\n",
        "\n",
        "        for i in range(ring_len):\n",
        "            orig = ring_accounts[i]\n",
        "            dest = ring_accounts[(i + 1) % ring_len]  # close the ring\n",
        "            tx_type = np.random.choice(['TRANSFER','CASH_OUT'])\n",
        "            amount *= np.random.uniform(0.8, 1.0)  # ≤20% deduction\n",
        "\n",
        "            oldbalanceOrg = amount + np.random.uniform(1000, 5000)\n",
        "            newbalanceOrig = oldbalanceOrg - amount\n",
        "            oldbalanceDest = np.random.uniform(0, 5000)\n",
        "            newbalanceDest = oldbalanceDest + amount\n",
        "            step = steps[i]\n",
        "            hour = step % 24\n",
        "            day = (step // 24) % 31\n",
        "            day_of_month = day + 1\n",
        "\n",
        "            fake_tx.append({\n",
        "                'nameOrig': orig,\n",
        "                'nameDest': dest,\n",
        "                'amount': amount,\n",
        "                'type': tx_type,\n",
        "                'oldbalanceOrg': oldbalanceOrg,\n",
        "                'newbalanceOrig': newbalanceOrig,\n",
        "                'oldbalanceDest': oldbalanceDest,\n",
        "                'newbalanceDest': newbalanceDest,\n",
        "                'step': step,\n",
        "                'hour': hour,\n",
        "                'day': day,\n",
        "                'day_of_month': day_of_month,\n",
        "                'isFraud': 1,\n",
        "                'isFlaggedFraud': 1\n",
        "            })\n",
        "\n",
        "        start_step = steps[-1] + 1  # chronological order across rings\n",
        "\n",
        "    fake_df = pd.DataFrame(fake_tx)\n",
        "    df_augmented = pd.concat([df, fake_df], ignore_index=True)\n",
        "    return df_augmented"
      ],
      "metadata": {
        "id": "FR-k8ymkILUj"
      },
      "execution_count": null,
      "outputs": []
    },
    {
      "cell_type": "code",
      "source": [
        "df_augmented = add_fraud_rings_paysim(df_subset, n_rings=5)\n",
        "print(f\"Augmented dataset: {df_augmented.shape[0]} rows\")"
      ],
      "metadata": {
        "colab": {
          "base_uri": "https://localhost:8080/"
        },
        "id": "eSRVtMOC-4lU",
        "outputId": "b2955a82-5471-45f2-85ca-872928b0d836"
      },
      "execution_count": null,
      "outputs": [
        {
          "output_type": "stream",
          "name": "stdout",
          "text": [
            "Augmented dataset: 50024 rows\n"
          ]
        }
      ]
    },
    {
      "cell_type": "code",
      "source": [
        "print(df_augmented.head())"
      ],
      "metadata": {
        "colab": {
          "base_uri": "https://localhost:8080/"
        },
        "id": "0_QPRVSjIaga",
        "outputId": "31c3d615-8ea7-4f6c-d351-9c34e0316e33"
      },
      "execution_count": null,
      "outputs": [
        {
          "output_type": "stream",
          "name": "stdout",
          "text": [
            "   step      type     amount     nameOrig  oldbalanceOrg  newbalanceOrig  \\\n",
            "0    46   CASH_IN   82812.61  C2045765496       94057.99       176870.60   \n",
            "1   266   PAYMENT    3123.24  C1551703422       50036.00        46912.76   \n",
            "2    17  TRANSFER  305627.00  C1711670940      305627.00            0.00   \n",
            "3   137   PAYMENT   51680.70   C151179513      243532.79       191852.09   \n",
            "4   359   CASH_IN   30096.99  C1061023977     7599823.47      7629920.46   \n",
            "\n",
            "      nameDest  oldbalanceDest  newbalanceDest  isFraud  isFlaggedFraud  hour  \\\n",
            "0  C1616574477       591195.97       508383.36        0               0    22   \n",
            "1   M616455084            0.00            0.00        0               0     2   \n",
            "2   C385061535            0.00            0.00        1               0    17   \n",
            "3  M1730703519            0.00            0.00        0               0    17   \n",
            "4  C1246610976       106350.59        76253.60        0               0    23   \n",
            "\n",
            "   day  day_of_month  \n",
            "0    1             2  \n",
            "1   11            12  \n",
            "2    0             1  \n",
            "3    5             6  \n",
            "4   14            15  \n"
          ]
        }
      ]
    },
    {
      "cell_type": "code",
      "source": [
        "df_augmented.to_csv(\"df_augmented_paysim.csv\", index=False)\n"
      ],
      "metadata": {
        "id": "T_280NZYIkCm"
      },
      "execution_count": null,
      "outputs": []
    }
  ]
}