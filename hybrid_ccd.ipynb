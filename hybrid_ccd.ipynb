{
  "cells": [
    {
      "cell_type": "code",
      "execution_count": null,
      "metadata": {
        "id": "install",
        "colab": {
          "base_uri": "https://localhost:8080/"
        },
        "outputId": "6e178653-013a-4f6b-d349-5cd42c47a236",
        "collapsed": true
      },
      "outputs": [
        {
          "output_type": "stream",
          "name": "stderr",
          "text": [
            "/tmp/ipython-input-2924517861.py:2: DeprecationWarning: pkg_resources is deprecated as an API. See https://setuptools.pypa.io/en/latest/pkg_resources.html\n",
            "  import sys, subprocess, pkg_resources\n"
          ]
        },
        {
          "output_type": "stream",
          "name": "stdout",
          "text": [
            "Torch: 2.8.0+cu126\n",
            "Installing: torch_geometric torch_scatter torch_sparse torch_cluster -f https://data.pyg.org/whl/torch-2.8.0+cpu.html\n",
            "Installing: scikit-learn pandas matplotlib networkx numpy\n"
          ]
        },
        {
          "output_type": "execute_result",
          "data": {
            "text/plain": [
              "0"
            ]
          },
          "metadata": {},
          "execution_count": 1
        }
      ],
      "source": [
        "# --- Install dependencies (Colab) ---\n",
        "import sys, subprocess, pkg_resources\n",
        "\n",
        "def pip_install(args):\n",
        "    print(\"Installing:\", ' '.join(args))\n",
        "    return subprocess.check_call([sys.executable, \"-m\", \"pip\", \"install\", *args])\n",
        "\n",
        "try:\n",
        "    import torch\n",
        "except Exception:\n",
        "    pip_install([\"torch\", \"torchvision\", \"torchaudio\", \"--index-url\", \"https://download.pytorch.org/whl/cpu\"])\n",
        "    import torch\n",
        "\n",
        "torch_v = torch.__version__.split('+')[0]\n",
        "print(\"Torch:\", torch.__version__)\n",
        "\n",
        "# Install PyG wheels compatible with the Torch version\n",
        "wurl = f\"https://data.pyg.org/whl/torch-{torch_v}+cpu.html\"\n",
        "to_install = [\n",
        "    \"torch_geometric\",\n",
        "    \"torch_scatter\",\n",
        "    \"torch_sparse\",\n",
        "    \"torch_cluster\",\n",
        "]\n",
        "pip_install([*to_install, \"-f\", wurl])\n",
        "\n",
        "pip_install([\"scikit-learn\", \"pandas\", \"matplotlib\", \"networkx\", \"numpy\"])"
      ],
      "id": "install"
    },
    {
      "cell_type": "code",
      "execution_count": null,
      "metadata": {
        "id": "Sz2XhiemoEim"
      },
      "outputs": [],
      "source": [
        "# --- Imports & seed ---\n",
        "import numpy as np\n",
        "import pandas as pd\n",
        "import torch\n",
        "import torch.nn as nn\n",
        "import torch.nn.functional as F\n",
        "from sklearn.model_selection import train_test_split\n",
        "from sklearn.metrics import classification_report, average_precision_score, precision_recall_curve\n",
        "from sklearn.neighbors import NearestNeighbors\n",
        "import matplotlib.pyplot as plt\n",
        "from torch_geometric.data import Data\n",
        "from torch_geometric.nn import GATConv, GCNConv, SAGEConv\n",
        "import warnings\n",
        "warnings.filterwarnings('ignore')\n",
        "\n",
        "rng = np.random.default_rng(42)\n",
        "torch.manual_seed(42)\n",
        "np.random.seed(42)\n"
      ],
      "id": "Sz2XhiemoEim"
    },
    {
      "cell_type": "code",
      "execution_count": null,
      "metadata": {
        "id": "load",
        "colab": {
          "base_uri": "https://localhost:8080/"
        },
        "outputId": "89bfdef2-79c3-44f9-9eab-07d588e9bf2c"
      },
      "outputs": [
        {
          "output_type": "stream",
          "name": "stdout",
          "text": [
            "(284807, 31) Index(['Time', 'V1', 'V2', 'V3', 'V4', 'V5', 'V6', 'V7', 'V8', 'V9'], dtype='object')\n"
          ]
        }
      ],
      "source": [
        "import os\n",
        "CSV_PATH = '/content/creditcard.csv'  # change if needed\n",
        "\n",
        "if not os.path.exists(CSV_PATH):\n",
        "    try:\n",
        "        from google.colab import files\n",
        "        print(\"Please upload creditcard.csv (from Kaggle dataset)\")\n",
        "        uploaded = files.upload()\n",
        "        CSV_PATH = list(uploaded.keys())[0]\n",
        "    except Exception:\n",
        "        raise FileNotFoundError(\"creditcard.csv not found. Upload it or set CSV_PATH correctly.\")\n",
        "\n",
        "df = pd.read_csv(CSV_PATH)\n",
        "print(df.shape, df.columns[:10])\n",
        "assert set(['Time','Amount','Class']).issubset(df.columns), \"Expected columns Time, Amount, Class to exist.\"\n"
      ],
      "id": "load"
    },
    {
      "cell_type": "code",
      "source": [
        "num_fraud = df['Class'].sum()\n",
        "print(f\"Number of fraud samples: {num_fraud}\")\n",
        "\n",
        "num_nonfraud = len(df) - num_fraud\n",
        "print(f\"Number of non-fraud samples: {num_nonfraud}\")\n"
      ],
      "metadata": {
        "colab": {
          "base_uri": "https://localhost:8080/"
        },
        "id": "9V0Y-VkVQIVT",
        "outputId": "0df97917-58e6-4f5e-9962-743ba2be3f48"
      },
      "id": "9V0Y-VkVQIVT",
      "execution_count": null,
      "outputs": [
        {
          "output_type": "stream",
          "name": "stdout",
          "text": [
            "Number of fraud samples: 492\n",
            "Number of non-fraud samples: 284315\n"
          ]
        }
      ]
    },
    {
      "cell_type": "code",
      "execution_count": null,
      "metadata": {
        "id": "symbolic",
        "colab": {
          "base_uri": "https://localhost:8080/"
        },
        "outputId": "c75b9d0b-b023-4db8-fbe5-9bcb2436f6b8"
      },
      "outputs": [
        {
          "output_type": "stream",
          "name": "stdout",
          "text": [
            "#symbolic features: 39\n"
          ]
        }
      ],
      "source": [
        "def create_symbolic_features(df: pd.DataFrame) -> pd.DataFrame:\n",
        "    sym = pd.DataFrame(index=df.index)\n",
        "    # Amount bins\n",
        "    sym['Sym_HighAmount'] = (df['Amount'] > df['Amount'].quantile(0.95)).astype(int)\n",
        "    sym['Sym_VeryHighAmount'] = (df['Amount'] > df['Amount'].quantile(0.99)).astype(int)\n",
        "    sym['Sym_LowAmount'] = (df['Amount'] < df['Amount'].quantile(0.25)).astype(int)\n",
        "    sym['Sym_ZeroAmount'] = (df['Amount'] == 0).astype(int)\n",
        "\n",
        "    # V1..V28 availability varies by dataset; focus on top KL divergence features\n",
        "    top_features = ['V11', 'V4', 'V18', 'V12', 'V14', 'V17', 'V16']\n",
        "    for c in top_features:\n",
        "        if c in df.columns:\n",
        "            Q1, Q3 = df[c].quantile(0.25), df[c].quantile(0.75)\n",
        "            IQR = Q3 - Q1\n",
        "            sym[f'Sym_{c}_Outlier'] = (((df[c] < Q1 - 1.5*IQR) | (df[c] > Q3 + 1.5*IQR))).astype(int)\n",
        "            sym[f'Sym_{c}_Extreme'] = (((df[c] < df[c].quantile(0.01)) | (df[c] > df[c].quantile(0.99)))).astype(int)  # tighter cutoff\n",
        "            sym[f'Sym_{c}_Positive'] = (df[c] > 0).astype(int)\n",
        "            sym[f'Sym_{c}_Negative'] = (df[c] < 0).astype(int)\n",
        "\n",
        "    # Time-of-day bins from seconds since start (approx hour)\n",
        "    hour = (df['Time'] % 86400) // 3600\n",
        "    sym['Sym_EarlyMorning'] = hour.isin([2,3,4,5]).astype(int)\n",
        "    sym['Sym_LaterMorning'] = hour.isin([6,7,8,9]).astype(int)\n",
        "    sym['Sym_Night'] = hour.isin([22,23,0,1]).astype(int)\n",
        "\n",
        "    # Composite indicators\n",
        "    outlier_cols = [col for col in sym.columns if col.endswith('_Outlier')]\n",
        "    sym['Sym_OutlierCount'] = sym[outlier_cols].sum(axis=1) if outlier_cols else 0\n",
        "\n",
        "    extreme_cols = [col for col in sym.columns if col.endswith('_Extreme')]\n",
        "    sym['Sym_ExtremeCount'] = sym[extreme_cols].sum(axis=1) if extreme_cols else 0\n",
        "\n",
        "    # Composite feature example\n",
        "    if 'Sym_V11_Outlier' in sym.columns and 'Sym_HighAmount' in sym.columns:\n",
        "        sym['Sym_V11_HighAmount_Outlier'] = (sym['Sym_V11_Outlier'] & sym['Sym_HighAmount']).astype(int)\n",
        "    else:\n",
        "        sym['Sym_V11_HighAmount_Outlier'] = 0\n",
        "\n",
        "    # Anomalous pattern composite feature\n",
        "    sym['Sym_AnomalousPattern'] = (sym[outlier_cols].sum(axis=1) >= 3).astype(int) if outlier_cols else 0\n",
        "\n",
        "    return sym\n",
        "\n",
        "symbolic = create_symbolic_features(df)\n",
        "symbolic_cols = list(symbolic.columns)\n",
        "print(\"#symbolic features:\", len(symbolic_cols))\n"
      ],
      "id": "symbolic"
    },
    {
      "cell_type": "code",
      "execution_count": null,
      "metadata": {
        "colab": {
          "base_uri": "https://localhost:8080/"
        },
        "id": "rFHpMRFsoEio",
        "outputId": "a4a389b8-cfd5-45e4-8438-344b4c5c41e7"
      },
      "outputs": [
        {
          "output_type": "stream",
          "name": "stdout",
          "text": [
            "Top 10 rules:\n",
            "01. IF Sym_V11_Outlier THEN Fraud | conf=0.598, lift=349.58\n",
            "02. IF Sym_AnomalousPattern THEN Fraud | conf=0.839, lift=104.31\n",
            "03. IF Sym_V14_Extreme THEN Fraud | conf=0.837, lift=45.04\n",
            "04. IF Sym_V17_Extreme THEN Fraud | conf=0.809, lift=43.40\n",
            "05. IF Sym_V12_Extreme THEN Fraud | conf=0.740, lift=39.44\n",
            "06. IF Sym_V11_Extreme THEN Fraud | conf=0.699, lift=37.13\n",
            "07. IF Sym_ExtremeCount THEN Fraud | conf=4.713, lift=35.67\n",
            "08. IF Sym_V16_Extreme THEN Fraud | conf=0.665, lift=35.18\n",
            "09. IF Sym_V17_Outlier THEN Fraud | conf=0.807, lift=32.67\n",
            "10. IF Sym_V16_Outlier THEN Fraud | conf=0.713, lift=25.89\n",
            "Computed per-node rule confidences.\n"
          ]
        }
      ],
      "source": [
        "def extract_rules(symbolic_df: pd.DataFrame, y: pd.Series,\n",
        "                  min_diff=0.1, top_k_pairs=10):\n",
        "    rules = {}\n",
        "    sym_cols = list(symbolic_df.columns)\n",
        "    fraud = symbolic_df[y==1]\n",
        "    normal = symbolic_df[y==0]\n",
        "\n",
        "    for c in sym_cols:\n",
        "        f_true = fraud[c].mean() if len(fraud) > 0 else 0\n",
        "        n_true = normal[c].mean() if len(normal) > 0 else 0\n",
        "        diff = f_true - n_true\n",
        "        if diff > min_diff:\n",
        "            sign = 1\n",
        "            rules[f\"IF {c} THEN Fraud\"] = {\n",
        "                'confidence': float(f_true),\n",
        "                'support': float((fraud[c]==1).mean() if len(fraud)>0 else 0),\n",
        "                'lift': float(f_true / (n_true + 1e-8)),\n",
        "                'sign': sign\n",
        "            }\n",
        "        elif diff < -min_diff:\n",
        "            sign = -1\n",
        "            rules[f\"IF {c} THEN Fraud\"] = {\n",
        "                'confidence': float(f_true),\n",
        "                'support': float((fraud[c]==1).mean() if len(fraud)>0 else 0),\n",
        "                'lift': float(f_true / (n_true + 1e-8)),\n",
        "                'sign': sign\n",
        "            }\n",
        "\n",
        "    rules = dict(sorted(rules.items(), key=lambda kv: abs(kv[1]['lift']), reverse=True))\n",
        "    return rules\n",
        "\n",
        "y = df['Class'].astype(int)\n",
        "rules = extract_rules(symbolic, y)\n",
        "print(\"Top 10 rules:\")\n",
        "for i,(r,info) in enumerate(list(rules.items())[:10]):\n",
        "    print(f\"{i+1:02d}. {r} | conf={info['confidence']:.3f}, lift={info['lift']:.2f}\")\n",
        "\n",
        "# Precompute per-node rule confidence: max confidence among active single-feature rules\n",
        "sym_mat = symbolic.values.astype(np.float32)\n",
        "col_index = {c:i for i,c in enumerate(symbolic.columns)}\n",
        "rule_list = [(r,info) for r,info in rules.items() if r.startswith('IF ')]\n",
        "node_rule_conf = np.zeros(len(df), dtype=np.float32)\n",
        "for r,info in rule_list:\n",
        "    feat = r.split()[1]\n",
        "    j = col_index.get(feat, None)\n",
        "    if j is None:\n",
        "        continue\n",
        "    active = sym_mat[:, j] > 0.5\n",
        "    node_rule_conf[active] = np.maximum(node_rule_conf[active], info['confidence'])\n",
        "node_rule_conf = torch.from_numpy(node_rule_conf)\n",
        "print(\"Computed per-node rule confidences.\")\n"
      ],
      "id": "rFHpMRFsoEio"
    },
    {
      "cell_type": "code",
      "source": [
        "# Use the full dataset\n",
        "df_full, symbolic_full, y_full = df.copy(), symbolic.copy(), df['Class'].astype(int).reset_index(drop=True)\n",
        "\n",
        "# Features as float32\n",
        "X_sym = symbolic_full.values.astype(np.float32)\n",
        "print(\"Full dataset:\", X_sym.shape, \"fraud rate:\", y_full.mean())"
      ],
      "metadata": {
        "colab": {
          "base_uri": "https://localhost:8080/"
        },
        "id": "kfWCXhfdapGU",
        "outputId": "84748d6d-8a39-4cd7-e587-545e4531bec6"
      },
      "id": "kfWCXhfdapGU",
      "execution_count": null,
      "outputs": [
        {
          "output_type": "stream",
          "name": "stdout",
          "text": [
            "Full dataset: (284807, 39) fraud rate: 0.001727485630620034\n"
          ]
        }
      ]
    },
    {
      "cell_type": "code",
      "source": [
        "\n",
        "# kNN with cosine distance\n",
        "k = 10\n",
        "nbrs = NearestNeighbors(n_neighbors=k, metric='cosine', algorithm='brute').fit(X_sym)\n",
        "_, idx = nbrs.kneighbors(X_sym)\n",
        "src = np.repeat(np.arange(X_sym.shape[0]), k).astype(np.int64)\n",
        "dst = idx.reshape(-1).astype(np.int64)\n",
        "edge_index = np.vstack([src, dst])\n"
      ],
      "metadata": {
        "id": "w6FKfaSJaqyG"
      },
      "id": "w6FKfaSJaqyG",
      "execution_count": null,
      "outputs": []
    },
    {
      "cell_type": "code",
      "execution_count": null,
      "metadata": {
        "id": "graph",
        "colab": {
          "base_uri": "https://localhost:8080/"
        },
        "outputId": "0a3e78ff-bf61-4796-9cf4-ca7ec5ac45b6"
      },
      "outputs": [
        {
          "output_type": "stream",
          "name": "stdout",
          "text": [
            "Data(x=[284807, 39], edge_index=[2, 2848070], y=[284807], train_mask=[284807], test_mask=[284807])\n"
          ]
        }
      ],
      "source": [
        "\n",
        "\n",
        "# Torch tensors\n",
        "x = torch.from_numpy(X_sym)\n",
        "edge_index = torch.from_numpy(edge_index)\n",
        "y_t = torch.from_numpy(y_full.values if hasattr(y_full, 'values') else np.array(y_full)).long()\n",
        "\n",
        "# Train-test masks (stratified)\n",
        "train_ids, test_ids = train_test_split(\n",
        "    np.arange(len(y_t)),\n",
        "    test_size=0.2,\n",
        "    stratify=y_t.numpy(),\n",
        "    random_state=42\n",
        ")\n",
        "train_mask = torch.zeros(len(y_t), dtype=torch.bool)\n",
        "train_mask[train_ids] = True\n",
        "test_mask = torch.zeros(len(y_t), dtype=torch.bool)\n",
        "test_mask[test_ids] = True\n",
        "\n",
        "# PyG Data object\n",
        "data = Data(x=x, edge_index=edge_index, y=y_t,\n",
        "            train_mask=train_mask, test_mask=test_mask)\n",
        "print(data)\n"
      ],
      "id": "graph"
    },
    {
      "cell_type": "code",
      "execution_count": null,
      "metadata": {
        "id": "model",
        "colab": {
          "base_uri": "https://localhost:8080/"
        },
        "outputId": "75583762-6ad9-499d-cec1-b0be1284c58f"
      },
      "outputs": [
        {
          "output_type": "stream",
          "name": "stdout",
          "text": [
            "rule_ids_per_node shape: torch.Size([284807, 3]) rule_ids_sign shape: tensor([[ 1.,  1.,  1.],\n",
            "        [ 1.,  1.,  1.],\n",
            "        [ 1.,  1.,  1.],\n",
            "        ...,\n",
            "        [ 1.,  1., -1.],\n",
            "        [ 1.,  1.,  1.],\n",
            "        [ 1.,  1.,  1.]])\n"
          ]
        }
      ],
      "source": [
        "class SymbolicGNN(nn.Module):\n",
        "    def __init__(self, num_features, rule_embedding_dim=16, hidden_dim=64, heads=4, backbone=\"GAT\"):\n",
        "        super().__init__()\n",
        "        self.symbolic_encoder = nn.Sequential(\n",
        "            nn.Linear(num_features, hidden_dim // 2),\n",
        "            nn.ReLU(),\n",
        "            nn.Dropout(0.3)\n",
        "        )\n",
        "        self.rule_embeddings = nn.Embedding(256, rule_embedding_dim)  # 0 is PAD\n",
        "\n",
        "        if backbone == \"GAT\":\n",
        "            self.conv1 = GATConv(hidden_dim // 2 + rule_embedding_dim, hidden_dim, heads=heads, dropout=0.3)\n",
        "            self.conv2 = GATConv(hidden_dim * heads, hidden_dim, heads=1, dropout=0.3, concat=False)\n",
        "        elif backbone == \"GCN\":\n",
        "            self.conv1 = GCNConv(hidden_dim // 2 + rule_embedding_dim, hidden_dim)\n",
        "            self.conv2 = GCNConv(hidden_dim, hidden_dim)\n",
        "        elif backbone == \"GraphSAGE\":\n",
        "            self.conv1 = SAGEConv(hidden_dim // 2 + rule_embedding_dim, hidden_dim)\n",
        "            self.conv2 = SAGEConv(hidden_dim, hidden_dim)\n",
        "        else:\n",
        "            raise ValueError(f\"Unknown backbone {backbone}\")\n",
        "\n",
        "        self.classifier = nn.Sequential(\n",
        "            nn.Linear(hidden_dim, 32),\n",
        "            nn.ReLU(),\n",
        "            nn.Dropout(0.3),\n",
        "            nn.Linear(32, 2)\n",
        "        )\n",
        "    def forward(self, data, rule_ids_per_node=None, rule_signs_per_node=None):\n",
        "        x, edge_index = data.x, data.edge_index\n",
        "        x = self.symbolic_encoder(x)\n",
        "\n",
        "        if rule_ids_per_node is None:\n",
        "            rule_emb = torch.zeros(x.size(0), self.rule_embeddings.embedding_dim, device=x.device)\n",
        "        else:\n",
        "            embeddings = self.rule_embeddings(rule_ids_per_node)  # shape: (N, topK, emb_dim)\n",
        "            if rule_signs_per_node is not None:\n",
        "                sign_expanded = rule_signs_per_node.unsqueeze(-1)  # (N, topK, 1)\n",
        "                embeddings = embeddings * sign_expanded  # apply sign to embeddings\n",
        "            rule_emb = embeddings.mean(dim=1)  # average over topK rules\n",
        "\n",
        "        x = torch.cat([x, rule_emb], dim=1)\n",
        "        x = F.elu(self.conv1(x, edge_index))\n",
        "        x = F.elu(self.conv2(x, edge_index))\n",
        "        return self.classifier(x)\n",
        "\n",
        "\n",
        "def make_rule_ids_and_signs(symbolic_df, rules, topK=3):\n",
        "    ids = {}\n",
        "    rid = 1\n",
        "    col_index = {c: i for i, c in enumerate(symbolic_df.columns)}\n",
        "\n",
        "    # Map feature to id and store sign (+1 fraud, -1 normal)\n",
        "    signs_map = {}\n",
        "\n",
        "    for r, info in rules.items():\n",
        "        feat = r.split()[1]\n",
        "        if feat not in ids:\n",
        "            ids[feat] = rid\n",
        "            signs_map[feat] = info['sign']\n",
        "            rid += 1\n",
        "\n",
        "    N = len(symbolic_df)\n",
        "    R = torch.zeros((N, topK), dtype=torch.long)\n",
        "    S = torch.zeros((N, topK), dtype=torch.float32)  # signs: +1 or -1\n",
        "\n",
        "    for i in range(N):\n",
        "        active = []\n",
        "        for r, info in rules.items():\n",
        "            feat = r.split()[1]\n",
        "            j = col_index.get(feat, None)\n",
        "            if j is not None and symbolic_df.iat[i, j] > 0.5:\n",
        "                active.append((ids[feat], info['confidence'], signs_map[feat]))\n",
        "        active.sort(key=lambda t: -t[1])\n",
        "        for k in range(min(topK, len(active))):\n",
        "            R[i, k] = active[k][0]\n",
        "            S[i, k] = active[k][2]\n",
        "\n",
        "    return R, S\n",
        "\n",
        "rule_ids_per_node, rule_signs_per_node = make_rule_ids_and_signs(symbolic_full, rules, topK=3)\n",
        "print(\"rule_ids_per_node shape:\", rule_ids_per_node.shape,\"rule_ids_sign shape:\",rule_signs_per_node)\n"
      ],
      "id": "model"
    },
    {
      "cell_type": "markdown",
      "metadata": {
        "id": "QOUAuSKPoEiq"
      },
      "source": [
        "## 6) Train"
      ],
      "id": "QOUAuSKPoEiq"
    },
    {
      "cell_type": "code",
      "execution_count": null,
      "metadata": {
        "id": "train",
        "colab": {
          "base_uri": "https://localhost:8080/"
        },
        "outputId": "3886acf9-0171-49a8-d6b7-506d551cb45f"
      },
      "outputs": [
        {
          "output_type": "stream",
          "name": "stdout",
          "text": [
            "Epoch 001 | loss=0.8537 (ce=0.7331, rl=1.2060) | acc=0.3655 | PR-AUC=0.0022\n",
            "Epoch 010 | loss=0.6398 (ce=0.5161, rl=1.2371) | acc=0.8195 | PR-AUC=0.0467\n",
            "Epoch 020 | loss=0.5179 (ce=0.3857, rl=1.3220) | acc=0.8627 | PR-AUC=0.1017\n",
            "Epoch 030 | loss=0.4319 (ce=0.2832, rl=1.4872) | acc=0.9482 | PR-AUC=0.2676\n",
            "Epoch 040 | loss=0.4054 (ce=0.2472, rl=1.5815) | acc=0.9634 | PR-AUC=0.3422\n",
            "Epoch 050 | loss=0.3795 (ce=0.2229, rl=1.5666) | acc=0.9618 | PR-AUC=0.3501\n",
            "Epoch 060 | loss=0.3629 (ce=0.2055, rl=1.5742) | acc=0.9740 | PR-AUC=0.3954\n",
            "Epoch 070 | loss=0.3523 (ce=0.1931, rl=1.5915) | acc=0.9737 | PR-AUC=0.4022\n",
            "Epoch 080 | loss=0.3411 (ce=0.1814, rl=1.5963) | acc=0.9766 | PR-AUC=0.4513\n",
            "Epoch 090 | loss=0.3404 (ce=0.1805, rl=1.5996) | acc=0.9768 | PR-AUC=0.4901\n",
            "Epoch 100 | loss=0.3291 (ce=0.1680, rl=1.6115) | acc=0.9786 | PR-AUC=0.5392\n"
          ]
        }
      ],
      "source": [
        "backbone_choice = \"GCN\" #please note to change backbone choice change 'GCN' to other backbones mentiones\n",
        "\n",
        "device = torch.device('cuda' if torch.cuda.is_available() else 'cpu')\n",
        "model = SymbolicGNN(num_features=x.shape[1], backbone=backbone_choice).to(device)\n",
        "data = Data(x=x, edge_index=edge_index, y=y_t, train_mask=train_mask, test_mask=test_mask).to(device)\n",
        "rule_ids_per_node = rule_ids_per_node.to(device)\n",
        "rule_signs_per_node = rule_signs_per_node.to(device)\n",
        "node_rule_conf = node_rule_conf.to(device)\n",
        "\n",
        "\n",
        "# Class weights\n",
        "counts = torch.bincount(data.y[data.train_mask])\n",
        "weights = (1.0 / counts.float())\n",
        "weights = weights / weights.sum() * 2\n",
        "criterion = nn.CrossEntropyLoss(weight=weights)\n",
        "optimizer = torch.optim.Adam(model.parameters(), lr=1e-3, weight_decay=1e-4)\n",
        "\n",
        "def train_epoch(alpha=0.1):\n",
        "    model.train()\n",
        "    optimizer.zero_grad()\n",
        "    out = model(data, rule_ids_per_node)\n",
        "    ce = criterion(out[data.train_mask], data.y[data.train_mask])\n",
        "    p = F.softmax(out, dim=1)[:, 1]\n",
        "    rule_loss = torch.mean(torch.abs(p[data.train_mask] - node_rule_conf[data.train_mask]))\n",
        "    loss = ce + alpha * rule_loss\n",
        "    loss.backward()\n",
        "    nn.utils.clip_grad_norm_(model.parameters(), 1.0)\n",
        "    optimizer.step()\n",
        "\n",
        "    # Safely convert to float even if rule_loss is already float\n",
        "    ce_val = ce.item() if hasattr(ce, 'item') else ce\n",
        "    loss_val = loss.item() if hasattr(loss, 'item') else loss\n",
        "    rule_loss_val = rule_loss.item() if hasattr(rule_loss, 'item') else rule_loss\n",
        "\n",
        "    return loss_val, ce_val, rule_loss_val\n",
        "\n",
        "def eval_model():\n",
        "    model.eval()\n",
        "    with torch.no_grad():\n",
        "        out = model(data, rule_ids_per_node)\n",
        "        preds = out.argmax(1)\n",
        "        test_acc = (preds[data.test_mask] == data.y[data.test_mask]).float().mean().item()\n",
        "        probs = F.softmax(out, dim=1)[:, 1]\n",
        "        y_true = data.y[data.test_mask].cpu().numpy()\n",
        "        y_prob = probs[data.test_mask].cpu().numpy()\n",
        "        pr_auc = average_precision_score(y_true, y_prob)\n",
        "    return test_acc, pr_auc, y_true, y_prob\n",
        "\n",
        "\n",
        "EPOCHS = 100\n",
        "for e in range(1, EPOCHS + 1):\n",
        "    loss, ce, rl = train_epoch(alpha=0.1)\n",
        "    if e == 1 or e % 10 == 0:\n",
        "        acc, pr, _, _ = eval_model()\n",
        "        print(f\"Epoch {e:03d} | loss={loss:.4f} (ce={ce:.4f}, rl={rl:.4f}) | acc={acc:.4f} | PR-AUC={pr:.4f}\")\n"
      ],
      "id": "train"
    },
    {
      "cell_type": "markdown",
      "metadata": {
        "id": "kb5S4F6eoEiq"
      },
      "source": [
        "## 7) Evaluation & PR curve"
      ],
      "id": "kb5S4F6eoEiq"
    },
    {
      "cell_type": "code",
      "source": [
        "# after training:\n",
        "from sklearn.metrics import precision_recall_curve\n",
        "\n",
        "# make a validation split from your train set\n",
        "val_ids, train_core = train_test_split(np.where(data.train_mask.cpu())[0],\n",
        "                                       test_size=0.8, stratify=data.y[data.train_mask].cpu(),\n",
        "                                       random_state=42)\n",
        "val_mask = torch.zeros_like(data.train_mask); val_mask[val_ids]=True\n",
        "core_mask = torch.zeros_like(data.train_mask); core_mask[train_core]=True\n",
        "data.train_mask = core_mask  # keep training on core_mask if you want to retrain; or just use val_mask for thresholding\n",
        "\n",
        "model.eval()\n",
        "with torch.no_grad():\n",
        "    out = model(data, rule_ids_per_node)\n",
        "    p = F.softmax(out, dim=1)[:,1].cpu().numpy()\n",
        "\n",
        "y_val = data.y[val_mask].cpu().numpy()\n",
        "p_val = p[val_mask.cpu().numpy()]\n",
        "\n",
        "prec, rec, thr = precision_recall_curve(y_val, p_val)\n",
        "target_precision = 0.25  # tweak to taste\n",
        "idx = (prec >= target_precision).nonzero()[0]\n",
        "best_t = thr[idx[0]-1] if len(idx)>0 and idx[0]>0 else 0.5\n",
        "\n",
        "# Evaluate on test with this threshold\n",
        "y_test = data.y[data.test_mask].cpu().numpy()\n",
        "p_test = p[data.test_mask.cpu().numpy()]\n",
        "y_pred = (p_test >= best_t).astype(int)\n",
        "print(\"Best threshold:\", round(float(best_t),4))\n",
        "print(classification_report(y_test, y_pred, digits=4))"
      ],
      "metadata": {
        "colab": {
          "base_uri": "https://localhost:8080/"
        },
        "id": "8Rp7wj-KvXOm",
        "outputId": "fb1c80fb-7f02-4076-88b5-f22141734b12"
      },
      "id": "8Rp7wj-KvXOm",
      "execution_count": null,
      "outputs": [
        {
          "output_type": "stream",
          "name": "stdout",
          "text": [
            "Best threshold: 0.9077\n",
            "              precision    recall  f1-score   support\n",
            "\n",
            "           0     0.9998    0.9956    0.9977     56864\n",
            "           1     0.2530    0.8571    0.3907        98\n",
            "\n",
            "    accuracy                         0.9954     56962\n",
            "   macro avg     0.6264    0.9264    0.6942     56962\n",
            "weighted avg     0.9985    0.9954    0.9966     56962\n",
            "\n"
          ]
        }
      ]
    },
    {
      "cell_type": "code",
      "execution_count": null,
      "metadata": {
        "id": "eval",
        "colab": {
          "base_uri": "https://localhost:8080/",
          "height": 606
        },
        "outputId": "7efcd878-cc46-46ab-9de8-52b55d58af8f"
      },
      "outputs": [
        {
          "output_type": "stream",
          "name": "stdout",
          "text": [
            "Final Test Accuracy: 0.9786\n",
            "Final PR-AUC: 0.5392\n",
            "              precision    recall  f1-score   support\n",
            "\n",
            "           0     0.9998    0.9787    0.9892     56864\n",
            "           1     0.0678    0.8980    0.1262        98\n",
            "\n",
            "    accuracy                         0.9786     56962\n",
            "   macro avg     0.5338    0.9383    0.5577     56962\n",
            "weighted avg     0.9982    0.9786    0.9877     56962\n",
            "\n"
          ]
        },
        {
          "output_type": "display_data",
          "data": {
            "text/plain": [
              "<IPython.core.display.Javascript object>"
            ],
            "application/javascript": [
              "\n",
              "    async function download(id, filename, size) {\n",
              "      if (!google.colab.kernel.accessAllowed) {\n",
              "        return;\n",
              "      }\n",
              "      const div = document.createElement('div');\n",
              "      const label = document.createElement('label');\n",
              "      label.textContent = `Downloading \"${filename}\": `;\n",
              "      div.appendChild(label);\n",
              "      const progress = document.createElement('progress');\n",
              "      progress.max = size;\n",
              "      div.appendChild(progress);\n",
              "      document.body.appendChild(div);\n",
              "\n",
              "      const buffers = [];\n",
              "      let downloaded = 0;\n",
              "\n",
              "      const channel = await google.colab.kernel.comms.open(id);\n",
              "      // Send a message to notify the kernel that we're ready.\n",
              "      channel.send({})\n",
              "\n",
              "      for await (const message of channel.messages) {\n",
              "        // Send a message to notify the kernel that we're ready.\n",
              "        channel.send({})\n",
              "        if (message.buffers) {\n",
              "          for (const buffer of message.buffers) {\n",
              "            buffers.push(buffer);\n",
              "            downloaded += buffer.byteLength;\n",
              "            progress.value = downloaded;\n",
              "          }\n",
              "        }\n",
              "      }\n",
              "      const blob = new Blob(buffers, {type: 'application/binary'});\n",
              "      const a = document.createElement('a');\n",
              "      a.href = window.URL.createObjectURL(blob);\n",
              "      a.download = filename;\n",
              "      div.appendChild(a);\n",
              "      a.click();\n",
              "      div.remove();\n",
              "    }\n",
              "  "
            ]
          },
          "metadata": {}
        },
        {
          "output_type": "display_data",
          "data": {
            "text/plain": [
              "<IPython.core.display.Javascript object>"
            ],
            "application/javascript": [
              "download(\"download_df950a89-946e-4f58-8756-a3921a99f504\", \"Credit Card Precision-Recall Curvegcn.png\", 71120)"
            ]
          },
          "metadata": {}
        },
        {
          "output_type": "display_data",
          "data": {
            "text/plain": [
              "<Figure size 500x400 with 1 Axes>"
            ],
            "image/png": "[encoded data removed]"
          },
          "metadata": {}
        }
      ],
      "source": [
        "from google.colab import files\n",
        "acc, prauc, y_true, y_prob = eval_model()\n",
        "print(f\"Final Test Accuracy: {acc:.4f}\")\n",
        "print(f\"Final PR-AUC: {prauc:.4f}\")\n",
        "\n",
        "from sklearn.metrics import classification_report\n",
        "y_pred = (y_prob >= 0.5).astype(int)\n",
        "print(classification_report(y_true, y_pred, digits=4))\n",
        "\n",
        "prec, rec, thr = precision_recall_curve(y_true, y_prob)\n",
        "plt.figure(figsize=(5,4))\n",
        "plt.plot(rec, prec)\n",
        "plt.xlabel('Recall')\n",
        "plt.ylabel('Precision')\n",
        "plt.title('Precision-Recall Curve')\n",
        "# Save the figure (you already did this)\n",
        "plt.savefig(f\"Credit Card Precision-Recall Curve{backbone_choice.lower()}.png\", dpi=300, bbox_inches='tight')\n",
        "\n",
        "# Trigger download\n",
        "files.download(f\"Credit Card Precision-Recall Curve{backbone_choice.lower()}.png\")\n",
        "\n",
        "# Trigger download\n",
        "plt.show()"
      ],
      "id": "eval"
    },
    {
      "cell_type": "code",
      "source": [
        "from google.colab import files\n",
        "from sklearn.metrics import classification_report, precision_recall_curve, roc_curve, auc\n",
        "import matplotlib.pyplot as plt\n",
        "\n",
        "fpr, tpr, roc_thresholds = roc_curve(y_true, y_prob)\n",
        "roc_auc = auc(fpr, tpr)\n",
        "print(f\"Final ROC-AUC: {roc_auc:.4f}\")\n",
        "\n",
        "\n",
        "plt.figure(figsize=(5,4))\n",
        "plt.plot(fpr, tpr, label=f'ROC curve (AUC = {roc_auc:.4f})')\n",
        "plt.plot([0,1], [0,1], 'k--', label='Random guess')\n",
        "plt.xlabel('False Positive Rate')\n",
        "plt.ylabel('True Positive Rate (Recall)')\n",
        "plt.title('ROC Curve')\n",
        "plt.legend(loc='lower right')\n",
        "plt.savefig(f\"credit card ROC Curve{backbone_choice.lower()}.png\", dpi=300, bbox_inches='tight')\n",
        "plt.show()\n",
        "files.download(f\"credit card ROC Curve{backbone_choice.lower()}.png\")\n",
        "print(plt.plot(fpr, tpr, label=f'ROC curve (AUC = {roc_auc:.4f})')\n",
        ")"
      ],
      "metadata": {
        "colab": {
          "base_uri": "https://localhost:8080/",
          "height": 859
        },
        "id": "i8H0ewG9ozY0",
        "outputId": "8da8668d-857c-4717-a09c-459ef93d0eed"
      },
      "id": "i8H0ewG9ozY0",
      "execution_count": null,
      "outputs": [
        {
          "output_type": "stream",
          "name": "stdout",
          "text": [
            "Final ROC-AUC: 0.9689\n"
          ]
        },
        {
          "output_type": "display_data",
          "data": {
            "text/plain": [
              "<Figure size 500x400 with 1 Axes>"
            ],
            "image/png": "[encoded data removed]"
          },
          "metadata": {}
        },
        {
          "output_type": "display_data",
          "data": {
            "text/plain": [
              "<IPython.core.display.Javascript object>"
            ],
            "application/javascript": [
              "\n",
              "    async function download(id, filename, size) {\n",
              "      if (!google.colab.kernel.accessAllowed) {\n",
              "        return;\n",
              "      }\n",
              "      const div = document.createElement('div');\n",
              "      const label = document.createElement('label');\n",
              "      label.textContent = `Downloading \"${filename}\": `;\n",
              "      div.appendChild(label);\n",
              "      const progress = document.createElement('progress');\n",
              "      progress.max = size;\n",
              "      div.appendChild(progress);\n",
              "      document.body.appendChild(div);\n",
              "\n",
              "      const buffers = [];\n",
              "      let downloaded = 0;\n",
              "\n",
              "      const channel = await google.colab.kernel.comms.open(id);\n",
              "      // Send a message to notify the kernel that we're ready.\n",
              "      channel.send({})\n",
              "\n",
              "      for await (const message of channel.messages) {\n",
              "        // Send a message to notify the kernel that we're ready.\n",
              "        channel.send({})\n",
              "        if (message.buffers) {\n",
              "          for (const buffer of message.buffers) {\n",
              "            buffers.push(buffer);\n",
              "            downloaded += buffer.byteLength;\n",
              "            progress.value = downloaded;\n",
              "          }\n",
              "        }\n",
              "      }\n",
              "      const blob = new Blob(buffers, {type: 'application/binary'});\n",
              "      const a = document.createElement('a');\n",
              "      a.href = window.URL.createObjectURL(blob);\n",
              "      a.download = filename;\n",
              "      div.appendChild(a);\n",
              "      a.click();\n",
              "      div.remove();\n",
              "    }\n",
              "  "
            ]
          },
          "metadata": {}
        },
        {
          "output_type": "display_data",
          "data": {
            "text/plain": [
              "<IPython.core.display.Javascript object>"
            ],
            "application/javascript": [
              "download(\"download_3e3845ef-9885-4c2b-b919-db46c51bb4d4\", \"credit card ROC Curvegcn.png\", 104509)"
            ]
          },
          "metadata": {}
        },
        {
          "output_type": "stream",
          "name": "stdout",
          "text": [
            "[<matplotlib.lines.Line2D object at 0x7a9043987c20>]\n"
          ]
        },
        {
          "output_type": "display_data",
          "data": {
            "text/plain": [
              "<Figure size 640x480 with 1 Axes>"
            ],
            "image/png": "[encoded data removed]"
          },
          "metadata": {}
        }
      ]
    },
    {
      "cell_type": "code",
      "execution_count": null,
      "metadata": {
        "id": "explain",
        "colab": {
          "base_uri": "https://localhost:8080/"
        },
        "outputId": "e1d111d0-91f5-4f47-edbd-bc9581ac8383"
      },
      "outputs": [
        {
          "output_type": "stream",
          "name": "stdout",
          "text": [
            "\n",
            "Node 105136 | True=0 | P(fraud)=0.050\n",
            "Active symbolic features (first 10): ['Sym_V11_Negative', 'Sym_V4_Negative', 'Sym_V18_Positive', 'Sym_V12_Negative', 'Sym_V14_Negative', 'Sym_V17_Positive', 'Sym_V16_Positive']\n",
            "Rules triggered:\n",
            "  - IF Sym_V14_Negative THEN Fraud (conf=0.951)\n",
            "  - IF Sym_V12_Negative THEN Fraud (conf=0.949)\n",
            "  - IF Sym_V18_Positive THEN Fraud (conf=0.262)\n",
            "  - IF Sym_V17_Positive THEN Fraud (conf=0.197)\n",
            "  - IF Sym_V16_Positive THEN Fraud (conf=0.163)\n",
            "\n",
            "Node 117656 | True=0 | P(fraud)=0.008\n",
            "Active symbolic features (first 10): ['Sym_LowAmount', 'Sym_V11_Negative', 'Sym_V4_Negative', 'Sym_V18_Negative', 'Sym_V12_Positive', 'Sym_V14_Negative', 'Sym_V17_Negative', 'Sym_V16_Positive']\n",
            "Rules triggered:\n",
            "  - IF Sym_V14_Negative THEN Fraud (conf=0.951)\n",
            "  - IF Sym_V17_Negative THEN Fraud (conf=0.803)\n",
            "  - IF Sym_V18_Negative THEN Fraud (conf=0.738)\n",
            "  - IF Sym_LowAmount THEN Fraud (conf=0.455)\n",
            "  - IF Sym_V16_Positive THEN Fraud (conf=0.163)\n",
            "\n",
            "Node 2436 | True=0 | P(fraud)=0.028\n",
            "Active symbolic features (first 10): ['Sym_V11_Negative', 'Sym_V4_Negative', 'Sym_V18_Positive', 'Sym_V12_Negative', 'Sym_V14_Negative', 'Sym_V17_Negative', 'Sym_V16_Positive', 'Sym_Night']\n",
            "Rules triggered:\n",
            "  - IF Sym_V14_Negative THEN Fraud (conf=0.951)\n",
            "  - IF Sym_V12_Negative THEN Fraud (conf=0.949)\n",
            "  - IF Sym_V17_Negative THEN Fraud (conf=0.803)\n",
            "  - IF Sym_V18_Positive THEN Fraud (conf=0.262)\n",
            "  - IF Sym_V16_Positive THEN Fraud (conf=0.163)\n"
          ]
        }
      ],
      "source": [
        "idx_to_feat = np.array(symbolic_full.columns)\n",
        "def explain_nodes(indices, top_rules=5):\n",
        "    model.eval()\n",
        "    with torch.no_grad():\n",
        "        out = model(data, rule_ids_per_node)\n",
        "        probs = F.softmax(out, dim=1)[:,1].detach().cpu().numpy()\n",
        "    for i in indices:\n",
        "        feat_vals = data.x[i].cpu().numpy()\n",
        "        actives = idx_to_feat[feat_vals > 0.5]\n",
        "        # top K rule names by confidence that are active\n",
        "        active_rules = []\n",
        "        for r,info in rules.items():\n",
        "            feat = r.split()[1]\n",
        "            if feat in actives:\n",
        "                active_rules.append((r, info['confidence']))\n",
        "        active_rules.sort(key=lambda t:-t[1])\n",
        "        print(f\"\\nNode {i} | True={int(data.y[i].item())} | P(fraud)={probs[i]:.3f}\")\n",
        "        print(\"Active symbolic features (first 10):\", list(actives[:10]))\n",
        "        print(\"Rules triggered:\")\n",
        "        for r,c in active_rules[:top_rules]:\n",
        "            print(f\"  - {r} (conf={c:.3f})\")\n",
        "\n",
        "sample = np.random.choice(np.where(data.test_mask.cpu().numpy())[0], size=3, replace=False)\n",
        "explain_nodes(sample)"
      ],
      "id": "explain"
    },
    {
      "cell_type": "code",
      "execution_count": null,
      "metadata": {
        "id": "save",
        "colab": {
          "base_uri": "https://localhost:8080/"
        },
        "outputId": "c35ab25a-f123-4eca-d9a6-850ee2a4350e"
      },
      "outputs": [
        {
          "output_type": "stream",
          "name": "stdout",
          "text": [
            "Saved: gcn_symbolic_gnn_model.pt, extracted_rules.csv\n"
          ]
        }
      ],
      "source": [
        "torch.save(model.state_dict(), 'symbolic_gnn_model.pt')\n",
        "pd.DataFrame([{'rule':r, **info} for r,info in rules.items()]).to_csv('gcn_extracted_rules.csv', index=False)\n",
        "print(\"Saved: gcn_symbolic_gnn_model.pt, extracted_rules.csv\")"
      ],
      "id": "save"
    },
    {
      "cell_type": "code",
      "source": [
        "from google.colab import files\n",
        "from sklearn.metrics import confusion_matrix, ConfusionMatrixDisplay\n",
        "import matplotlib.pyplot as plt\n",
        "\n",
        "cm = confusion_matrix(y_test, y_pred)\n",
        "\n",
        "disp = ConfusionMatrixDisplay(confusion_matrix=cm, display_labels=['Not Fraud', 'Fraud'])\n",
        "disp.plot(cmap=plt.cm.Blues)\n",
        "plt.title(f\"credit card Confusion Matrix ({backbone_choice}, threshold={best_t:.4f})\")\n",
        "print(\"Confusion Matrix:\\n\", cm)\n",
        "\n",
        "\n",
        "# Save figure once before showing\n",
        "filename = f\"credit card confusion_matrix_{backbone_choice.lower()}.png\"\n",
        "plt.savefig(filename, dpi=300, bbox_inches='tight')\n",
        "\n",
        "plt.show()\n",
        "\n",
        "# Trigger download after showing\n",
        "files.download(filename)\n",
        "\n"
      ],
      "metadata": {
        "colab": {
          "base_uri": "https://localhost:8080/",
          "height": 526
        },
        "id": "gn82Vi9EO1G9",
        "outputId": "037a4f71-1e2c-4234-9d00-ed63e4ecdc97"
      },
      "id": "gn82Vi9EO1G9",
      "execution_count": null,
      "outputs": [
        {
          "output_type": "stream",
          "name": "stdout",
          "text": [
            "Confusion Matrix:\n",
            " [[55321  1543]\n",
            " [   10    88]]\n"
          ]
        },
        {
          "output_type": "display_data",
          "data": {
            "text/plain": [
              "<Figure size 640x480 with 2 Axes>"
            ],
            "image/png": "[encoded data removed]"
          },
          "metadata": {}
        },
        {
          "output_type": "display_data",
          "data": {
            "text/plain": [
              "<IPython.core.display.Javascript object>"
            ],
            "application/javascript": [
              "\n",
              "    async function download(id, filename, size) {\n",
              "      if (!google.colab.kernel.accessAllowed) {\n",
              "        return;\n",
              "      }\n",
              "      const div = document.createElement('div');\n",
              "      const label = document.createElement('label');\n",
              "      label.textContent = `Downloading \"${filename}\": `;\n",
              "      div.appendChild(label);\n",
              "      const progress = document.createElement('progress');\n",
              "      progress.max = size;\n",
              "      div.appendChild(progress);\n",
              "      document.body.appendChild(div);\n",
              "\n",
              "      const buffers = [];\n",
              "      let downloaded = 0;\n",
              "\n",
              "      const channel = await google.colab.kernel.comms.open(id);\n",
              "      // Send a message to notify the kernel that we're ready.\n",
              "      channel.send({})\n",
              "\n",
              "      for await (const message of channel.messages) {\n",
              "        // Send a message to notify the kernel that we're ready.\n",
              "        channel.send({})\n",
              "        if (message.buffers) {\n",
              "          for (const buffer of message.buffers) {\n",
              "            buffers.push(buffer);\n",
              "            downloaded += buffer.byteLength;\n",
              "            progress.value = downloaded;\n",
              "          }\n",
              "        }\n",
              "      }\n",
              "      const blob = new Blob(buffers, {type: 'application/binary'});\n",
              "      const a = document.createElement('a');\n",
              "      a.href = window.URL.createObjectURL(blob);\n",
              "      a.download = filename;\n",
              "      div.appendChild(a);\n",
              "      a.click();\n",
              "      div.remove();\n",
              "    }\n",
              "  "
            ]
          },
          "metadata": {}
        },
        {
          "output_type": "display_data",
          "data": {
            "text/plain": [
              "<IPython.core.display.Javascript object>"
            ],
            "application/javascript": [
              "download(\"download_86c916f4-277b-496a-a120-b78919012872\", \"credit card confusion_matrix_gat.png\", 90221)"
            ]
          },
          "metadata": {}
        }
      ]
    },
    {
      "cell_type": "code",
      "source": [
        "print(classification_report(y_test, y_pred, digits=4))\n"
      ],
      "metadata": {
        "colab": {
          "base_uri": "https://localhost:8080/"
        },
        "id": "dr0EULroPUGk",
        "outputId": "dc2daa0d-5d80-46d9-96f0-18a8052eb1ee"
      },
      "id": "dr0EULroPUGk",
      "execution_count": null,
      "outputs": [
        {
          "output_type": "stream",
          "name": "stdout",
          "text": [
            "              precision    recall  f1-score   support\n",
            "\n",
            "           0     0.9998    0.9223    0.9595     56864\n",
            "           1     0.0200    0.9184    0.0391        98\n",
            "\n",
            "    accuracy                         0.9223     56962\n",
            "   macro avg     0.5099    0.9203    0.4993     56962\n",
            "weighted avg     0.9982    0.9223    0.9579     56962\n",
            "\n"
          ]
        }
      ]
    },
    {
      "cell_type": "code",
      "source": [
        "num_fraud = (y_test == 1).sum()\n",
        "print(f\"Number of fraud samples in test set: {num_fraud}\")\n"
      ],
      "metadata": {
        "colab": {
          "base_uri": "https://localhost:8080/"
        },
        "id": "UKwhWISJQcv4",
        "outputId": "79ac4168-8ab8-4672-b925-2b12501b954b"
      },
      "id": "UKwhWISJQcv4",
      "execution_count": null,
      "outputs": [
        {
          "output_type": "stream",
          "name": "stdout",
          "text": [
            "Number of fraud samples in test set: 98\n"
          ]
        }
      ]
    }
  ],
  "metadata": {
    "colab": {
      "provenance": [],
      "machine_shape": "hm",
      "gpuType": "T4"
    },
    "kernelspec": {
      "display_name": "Python 3",
      "name": "python3"
    },
    "language_info": {
      "name": "python",
      "version": "3.10"
    },
    "accelerator": "GPU"
  },
  "nbformat": 4,
  "nbformat_minor": 5
}