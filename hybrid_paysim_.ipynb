{
  "nbformat": 4,
  "nbformat_minor": 0,
  "metadata": {
    "colab": {
      "provenance": [],
      "machine_shape": "hm",
      "gpuType": "T4"
    },
    "kernelspec": {
      "name": "python3",
      "display_name": "Python 3"
    },
    "language_info": {
      "name": "python"
    },
    "accelerator": "GPU"
  },
  "cells": [
    {
      "cell_type": "code",
      "execution_count": null,
      "metadata": {
        "colab": {
          "base_uri": "https://localhost:8080/"
        },
        "collapsed": true,
        "id": "P7VbOhAlvQQZ",
        "outputId": "1a814fae-4da7-47c3-a44e-d8e23bb3c0a3"
      },
      "outputs": [
        {
          "output_type": "stream",
          "name": "stderr",
          "text": [
            "/tmp/ipython-input-2924517861.py:2: DeprecationWarning: pkg_resources is deprecated as an API. See https://setuptools.pypa.io/en/latest/pkg_resources.html\n",
            "  import sys, subprocess, pkg_resources\n"
          ]
        },
        {
          "output_type": "stream",
          "name": "stdout",
          "text": [
            "Torch: 2.8.0+cu126\n",
            "Installing: torch_geometric torch_scatter torch_sparse torch_cluster -f https://data.pyg.org/whl/torch-2.8.0+cpu.html\n",
            "Installing: scikit-learn pandas matplotlib networkx numpy\n"
          ]
        },
        {
          "output_type": "execute_result",
          "data": {
            "text/plain": [
              "0"
            ]
          },
          "metadata": {},
          "execution_count": 1
        }
      ],
      "source": [
        "# --- Install dependencies (Colab) ---\n",
        "import sys, subprocess, pkg_resources\n",
        "\n",
        "def pip_install(args):\n",
        "    print(\"Installing:\", ' '.join(args))\n",
        "    return subprocess.check_call([sys.executable, \"-m\", \"pip\", \"install\", *args])\n",
        "\n",
        "try:\n",
        "    import torch\n",
        "except Exception:\n",
        "    pip_install([\"torch\", \"torchvision\", \"torchaudio\", \"--index-url\", \"https://download.pytorch.org/whl/cpu\"])\n",
        "    import torch\n",
        "\n",
        "torch_v = torch.__version__.split('+')[0]\n",
        "print(\"Torch:\", torch.__version__)\n",
        "\n",
        "# Install PyG wheels compatible with the Torch version\n",
        "wurl = f\"https://data.pyg.org/whl/torch-{torch_v}+cpu.html\"\n",
        "to_install = [\n",
        "    \"torch_geometric\",\n",
        "    \"torch_scatter\",\n",
        "    \"torch_sparse\",\n",
        "    \"torch_cluster\",\n",
        "]\n",
        "pip_install([*to_install, \"-f\", wurl])\n",
        "\n",
        "pip_install([\"scikit-learn\", \"pandas\", \"matplotlib\", \"networkx\", \"numpy\"])"
      ]
    },
    {
      "cell_type": "code",
      "source": [
        "import os\n",
        "import numpy as np\n",
        "import pandas as pd\n",
        "import torch\n",
        "import torch.nn as nn\n",
        "import torch.nn.functional as F\n",
        "from sklearn.preprocessing import StandardScaler\n",
        "from sklearn.model_selection import train_test_split\n",
        "from sklearn.metrics import classification_report, average_precision_score, precision_recall_curve\n",
        "from torch_geometric.data import Data\n",
        "from torch_geometric.nn import GCNConv, GATConv, SAGEConv"
      ],
      "metadata": {
        "id": "4mBYVTVpvlsk"
      },
      "execution_count": null,
      "outputs": []
    },
    {
      "cell_type": "code",
      "source": [
        "import matplotlib.pyplot as plt\n",
        "import seaborn as sns\n",
        "from sklearn.metrics import confusion_matrix\n"
      ],
      "metadata": {
        "id": "3otzygcSNZjg"
      },
      "execution_count": null,
      "outputs": []
    },
    {
      "cell_type": "code",
      "source": [
        "CSV_PATH = '/content/paysim.csv'\n",
        "assert os.path.exists(CSV_PATH), f\"Not found: {CSV_PATH}\"\n",
        "df = pd.read_csv(CSV_PATH)\n",
        "\n",
        "need = {'step','type','amount','nameOrig','oldbalanceOrg','newbalanceOrig','nameDest','oldbalanceDest','newbalanceDest','isFraud'}\n",
        "missing = need - set(df.columns)\n",
        "assert not missing, f\"Missing columns: {missing}\""
      ],
      "metadata": {
        "id": "HboSOVDAvoay"
      },
      "execution_count": null,
      "outputs": []
    },
    {
      "cell_type": "code",
      "source": [
        "SUBSET = 500_000\n",
        "if len(df) > SUBSET:\n",
        "    strat_labels = df['isFraud'].values\n",
        "    _, sub_idx = train_test_split(np.arange(len(df)), test_size=SUBSET, stratify=strat_labels, random_state=42)\n",
        "    df = df.iloc[sub_idx].reset_index(drop=True)"
      ],
      "metadata": {
        "id": "VhTf5aB3v7cw"
      },
      "execution_count": null,
      "outputs": []
    },
    {
      "cell_type": "code",
      "source": [
        "fraud_ratio = df['isFraud'].mean()\n",
        "print(f\"Subset size: {len(df)}\")\n",
        "print(f\"Fraud ratio in subset: {fraud_ratio:.6f}\")\n"
      ],
      "metadata": {
        "colab": {
          "base_uri": "https://localhost:8080/"
        },
        "id": "68P8_i3j5cGj",
        "outputId": "e48c9d02-aeb8-4f8d-92ae-c94224e9684a"
      },
      "execution_count": null,
      "outputs": [
        {
          "output_type": "stream",
          "name": "stdout",
          "text": [
            "Subset size: 500000\n",
            "Fraud ratio in subset: 0.001290\n"
          ]
        }
      ]
    },
    {
      "cell_type": "code",
      "source": [
        "# Add hour (0-23) and day (0-based) features\n",
        "df['hour'] = df['step'] % 24\n",
        "df['day'] = df['step'] // 24\n",
        "df['day_of_month'] = (df['day'] % 31) + 1\n",
        "\n"
      ],
      "metadata": {
        "id": "CVRGzs1B9GDX"
      },
      "execution_count": null,
      "outputs": []
    },
    {
      "cell_type": "code",
      "source": [
        "print(df.head())"
      ],
      "metadata": {
        "colab": {
          "base_uri": "https://localhost:8080/"
        },
        "id": "myB_0OTF9G7V",
        "outputId": "ab1e861b-6bb0-4509-b281-667aca98664b"
      },
      "execution_count": null,
      "outputs": [
        {
          "output_type": "stream",
          "name": "stdout",
          "text": [
            "   step      type     amount     nameOrig  oldbalanceOrg  newbalanceOrig  \\\n",
            "0    40   PAYMENT   20390.02   C377321813      522763.20       502373.18   \n",
            "1   274  CASH_OUT    1072.48   C579448605           0.00            0.00   \n",
            "2   322   CASH_IN  174418.02  C1989560101     4735344.33      4909762.34   \n",
            "3   251   PAYMENT   39375.67  C1343256601       29773.67            0.00   \n",
            "4   153   PAYMENT   25085.05  C1480894164           0.00            0.00   \n",
            "\n",
            "      nameDest  oldbalanceDest  newbalanceDest  isFraud  isFlaggedFraud  hour  \\\n",
            "0   M677101791            0.00            0.00        0               0    16   \n",
            "1   C555290826        10109.04        11181.52        0               0    10   \n",
            "2   C249002111       192249.26        17831.24        0               0    10   \n",
            "3   M467456359            0.00            0.00        0               0    11   \n",
            "4  M1251866332            0.00            0.00        0               0     9   \n",
            "\n",
            "   day  day_of_month  \n",
            "0    1             2  \n",
            "1   11            12  \n",
            "2   13            14  \n",
            "3   10            11  \n",
            "4    6             7  \n"
          ]
        }
      ]
    },
    {
      "cell_type": "code",
      "source": [
        "# ---------- Build graph ----------\n",
        "accounts = pd.Index(pd.unique(pd.concat([df['nameOrig'], df['nameDest']], ignore_index=True)))\n",
        "acc2id = {a:i for i,a in enumerate(accounts)}\n",
        "\n",
        "src = df['nameOrig'].map(acc2id).astype(np.int64).values\n",
        "dst = df['nameDest'].map(acc2id).astype(np.int64).values\n",
        "edge_index = torch.from_numpy(np.vstack([src, dst]))\n",
        "\n",
        "# Edge features\n",
        "type_ohe = pd.get_dummies(df['type'], prefix='type')\n",
        "edge_feats = pd.DataFrame({\n",
        "    'amount': df['amount'].astype(float),\n",
        "    'step': df['step'].astype(int),\n",
        "    'deltaOrg': (df['oldbalanceOrg'] - df['newbalanceOrig']).astype(float),\n",
        "    'deltaDest': (df['newbalanceDest'] - df['oldbalanceDest']).astype(float),\n",
        "    'flagged': df.get('isFlaggedFraud', 0).astype(int),\n",
        "})\n",
        "edge_feats = pd.concat([edge_feats, type_ohe], axis=1)\n",
        "\n",
        "scaler = StandardScaler()\n",
        "for c in ['amount','step','deltaOrg','deltaDest']:\n",
        "    edge_feats[c] = scaler.fit_transform(edge_feats[[c]])\n",
        "\n",
        "edge_attr = torch.from_numpy(edge_feats.values.astype(np.float32))\n",
        "\n",
        "# Node features: log degree in and out\n",
        "num_nodes = len(accounts)\n",
        "deg_in  = np.bincount(dst, minlength=num_nodes)\n",
        "deg_out = np.bincount(src, minlength=num_nodes)\n",
        "node_x = torch.from_numpy(np.vstack([np.log1p(deg_in), np.log1p(deg_out)]).T.astype(np.float32))\n",
        "\n",
        "edge_label = torch.from_numpy(df['isFraud'].astype(int).values)"
      ],
      "metadata": {
        "id": "X2VOpSbnNx4G"
      },
      "execution_count": null,
      "outputs": []
    },
    {
      "cell_type": "code",
      "source": [
        "def build_symbolic(df_raw: pd.DataFrame) -> pd.DataFrame:\n",
        "    sym = pd.DataFrame(index=df_raw.index)\n",
        "\n",
        "    # Original symbolic rules\n",
        "    sym['Sym_ZeroAmount'] = (df_raw['amount'] == 0).astype(int)\n",
        "    sym['Sym_AmountInFraudRange'] = ((df_raw['amount'] >= 63.8) & (df_raw['amount'] <= 10_000_000)).astype(int)\n",
        "    sym['Sym_ZeroBalanceDestAndAmount'] = (\n",
        "        (df_raw['newbalanceDest'] == 0) &\n",
        "        (df_raw['oldbalanceDest'] == 0) &\n",
        "        (df_raw['amount'] > 0)\n",
        "    ).astype(int)\n",
        "\n",
        "    # High amount thresholds\n",
        "    q95 = df_raw['amount'].quantile(0.95)\n",
        "    q99 = df_raw['amount'].quantile(0.99)\n",
        "    sym['Sym_HighAmount'] = (df_raw['amount'] > q95).astype(int)\n",
        "    sym['Sym_VeryHighAmount'] = (df_raw['amount'] > q99).astype(int)\n",
        "\n",
        "    # Risky transaction types\n",
        "    risky = df_raw['type'].isin(['TRANSFER', 'CASH_OUT']).astype(int)\n",
        "    sym['Sym_RiskyType'] = risky\n",
        "\n",
        "    # Drain pattern\n",
        "    sym['Sym_Drain'] = ((df_raw['newbalanceOrig'] == 0) & (df_raw['oldbalanceOrg'] > 0) & risky).astype(int)\n",
        "\n",
        "    # Large jump in destination balance\n",
        "    jump = (df_raw['newbalanceDest'] - df_raw['oldbalanceDest'])\n",
        "    sym['Sym_LargeDestJump'] = (jump > jump.quantile(0.99)).astype(int)\n",
        "\n",
        "    # Burst of transactions in the same step\n",
        "    cnt = df_raw['step'].map(df_raw['step'].value_counts())\n",
        "    sym['Sym_StepBurst'] = (cnt > cnt.quantile(0.99)).astype(int)\n",
        "\n",
        "    # Time features\n",
        "    if 'hour' not in df_raw.columns:\n",
        "        df_raw['hour'] = df_raw['step'] % 24\n",
        "    if 'day' not in df_raw.columns:\n",
        "        df_raw['day'] = (df_raw['step'] // 24) % 31  # 0-30\n",
        "\n",
        "    sym['Sym_NightHour'] = ((df_raw['hour'] >= 0) & (df_raw['hour'] <= 6)).astype(int)\n",
        "    sym['Sym_WeekendDay'] = df_raw['day'].isin([5, 6]).astype(int)  # adjust if needed\n",
        "\n",
        "    # Day of month features\n",
        "    df_raw['day_of_month'] = df_raw['day'] + 1\n",
        "    sym['Sym_HighFraudDay'] = (df_raw['day_of_month'] == 31).astype(int)\n",
        "    sym['Sym_LowFraudDay'] = (df_raw['day_of_month'] == 1).astype(int)\n",
        "\n",
        "    # --- New symbolic features: Duplicate senders & receivers ---\n",
        "    dup_senders_mask = df_raw['nameOrig'].duplicated(keep=False)\n",
        "    sym['Sym_DupSender'] = dup_senders_mask.astype(int)\n",
        "\n",
        "    dup_receivers_mask = df_raw['nameDest'].duplicated(keep=False)\n",
        "    sym['Sym_DupReceiver'] = dup_receivers_mask.astype(int)\n",
        "\n",
        "    return sym\n",
        "\n"
      ],
      "metadata": {
        "id": "afzBf3miwHAn"
      },
      "execution_count": null,
      "outputs": []
    },
    {
      "cell_type": "code",
      "source": [
        "def build_rule_conf(sym_df: pd.DataFrame, device: torch.device):\n",
        "    rule_conf = torch.zeros(len(sym_df), dtype=torch.float32, device=device)\n",
        "\n",
        "    # Strong patterns\n",
        "    hi = (\n",
        "        (sym_df['Sym_VeryHighAmount'] == 1) |\n",
        "        (sym_df['Sym_HighAmount'] == 1) |\n",
        "        (sym_df['Sym_Drain'] == 1) |\n",
        "        ((sym_df['Sym_RiskyType'] == 1) & (sym_df['Sym_LargeDestJump'] == 1)) |\n",
        "        (sym_df['Sym_HighFraudDay'] == 1) |\n",
        "        ((sym_df['Sym_NightHour'] == 1) & (sym_df['Sym_RiskyType'] == 1))\n",
        "    )\n",
        "\n",
        "    # Weaker patterns\n",
        "    hi_zero_amt = (sym_df['Sym_ZeroAmount'] == 1)\n",
        "    in_fraud_range = (sym_df['Sym_AmountInFraudRange'] == 1)\n",
        "    zero_bal_dest_and_amt = (sym_df['Sym_ZeroBalanceDestAndAmount'] == 1)\n",
        "    low_fraud_day = (sym_df['Sym_LowFraudDay'] == 1)\n",
        "\n",
        "    # New symbolic features: duplicate sender & receiver\n",
        "    dup_sender = (sym_df['Sym_DupSender'] == 1)\n",
        "    dup_receiver = (sym_df['Sym_DupReceiver'] == 1)\n",
        "\n",
        "    # Confidence weights\n",
        "    val_090 = 0.9\n",
        "    val_095 = 0.95\n",
        "    val_060 = 0.6\n",
        "    val_049 = 0.49\n",
        "    val_030 = 0.3  # low fraud day weight\n",
        "\n",
        "    val_dup_sender = 0.4  # moderate weight for duplicate sender\n",
        "    val_dup_receiver = 0.2  # smaller weight for duplicate receiver\n",
        "\n",
        "    # Additive scoring\n",
        "    rule_conf += torch.tensor(val_090, device=device) * torch.tensor(hi.values, dtype=torch.float32, device=device)\n",
        "    rule_conf += torch.tensor(val_095, device=device) * torch.tensor(hi_zero_amt.values, dtype=torch.float32, device=device)\n",
        "    rule_conf += torch.tensor(val_060, device=device) * torch.tensor(in_fraud_range.values, dtype=torch.float32, device=device)\n",
        "    rule_conf += torch.tensor(val_049, device=device) * torch.tensor(zero_bal_dest_and_amt.values, dtype=torch.float32, device=device)\n",
        "    rule_conf += torch.tensor(val_030, device=device) * torch.tensor(low_fraud_day.values, dtype=torch.float32, device=device)\n",
        "\n",
        "    rule_conf += torch.tensor(val_dup_sender, device=device) * torch.tensor(dup_sender.values, dtype=torch.float32, device=device)\n",
        "    rule_conf += torch.tensor(val_dup_receiver, device=device) * torch.tensor(dup_receiver.values, dtype=torch.float32, device=device)\n",
        "\n",
        "    # Cap at 1.0\n",
        "    rule_conf = torch.clamp(rule_conf, 0, 1)\n",
        "\n",
        "    return rule_conf\n"
      ],
      "metadata": {
        "id": "-kc_BIumwMBs"
      },
      "execution_count": null,
      "outputs": []
    },
    {
      "cell_type": "code",
      "source": [
        "device = torch.device('cuda' if torch.cuda.is_available() else 'cpu')\n",
        "\n",
        "sym_df = build_symbolic(df)\n",
        "edge_sym = torch.from_numpy(sym_df.values.astype(np.float32)).to(device)\n",
        "rule_conf = build_rule_conf(sym_df, device)\n"
      ],
      "metadata": {
        "id": "9Z_4viv7AMZ9"
      },
      "execution_count": null,
      "outputs": []
    },
    {
      "cell_type": "code",
      "source": [
        "\n",
        "device = torch.device('cuda' if torch.cuda.is_available() else 'cpu')\n",
        "\n",
        "idx = np.arange(len(edge_label))\n",
        "\n",
        "# Ensure edge_label is on CPU for train_test_split stratify\n",
        "edge_label_cpu = edge_label.cpu().numpy()\n",
        "\n",
        "tr, te = train_test_split(idx, test_size=0.2, stratify=edge_label_cpu, random_state=42)\n",
        "tr, va = train_test_split(tr, test_size=0.2, stratify=edge_label_cpu[tr], random_state=42)\n",
        "\n",
        "# Create masks on CPU first (matching edge_label device)\n",
        "train_mask = torch.zeros(len(idx), dtype=torch.bool)\n",
        "val_mask = torch.zeros(len(idx), dtype=torch.bool)\n",
        "test_mask = torch.zeros(len(idx), dtype=torch.bool)\n",
        "\n",
        "train_mask[tr] = True\n",
        "val_mask[va] = True\n",
        "test_mask[te] = True\n",
        "\n",
        "# Move masks to device (GPU/CPU)\n",
        "train_mask = train_mask.to(device)\n",
        "val_mask = val_mask.to(device)\n",
        "test_mask = test_mask.to(device)\n",
        "\n",
        "# Move edge_label to device to match mask device\n",
        "edge_label = edge_label.to(device)\n",
        "\n",
        "pos = int(edge_label[train_mask].sum().item())\n",
        "neg = int(train_mask.sum().item()) - pos\n",
        "\n",
        "pos_weight = torch.tensor([neg / max(pos, 1)], device=device)\n",
        "\n",
        "bce = nn.BCEWithLogitsLoss(pos_weight=pos_weight)\n",
        "\n",
        "\n"
      ],
      "metadata": {
        "id": "n51HxUmO3slZ"
      },
      "execution_count": null,
      "outputs": []
    },
    {
      "cell_type": "code",
      "source": [
        "data = Data(x=node_x, edge_index=edge_index, edge_attr=edge_attr)"
      ],
      "metadata": {
        "id": "zF5GOelA3DTq"
      },
      "execution_count": null,
      "outputs": []
    },
    {
      "cell_type": "code",
      "source": [
        "class EdgeGNN_Symbolic(nn.Module):\n",
        "    def __init__(self, in_node, in_edge, in_sym, conv_type='sage', hid=64, sym_dim=8, heads=4, dropout=0.3):\n",
        "        super().__init__()\n",
        "        # Select conv type\n",
        "        if conv_type == 'gcn':\n",
        "            self.conv1 = GCNConv(in_node, hid)\n",
        "            self.conv2 = GCNConv(hid, hid)\n",
        "\n",
        "        elif conv_type == 'gat':\n",
        "            self.conv1 = GATConv(in_node, hid // heads, heads=heads)\n",
        "            self.conv2 = GATConv(hid, hid // heads, heads=heads)\n",
        "\n",
        "        else:  # default to GraphSAGE\n",
        "            self.conv1 = SAGEConv(in_node, hid)\n",
        "            self.conv2 = SAGEConv(hid, hid)\n",
        "\n",
        "        self.sym_enc = nn.Linear(in_sym, sym_dim)\n",
        "        self.mlp = nn.Sequential(\n",
        "            nn.Linear(hid * 2 + in_edge + sym_dim, 128),\n",
        "            nn.ReLU(),\n",
        "            nn.Dropout(0.3),\n",
        "            nn.Linear(128, 1),\n",
        "        )\n",
        "\n",
        "    def forward(self, data, edge_sym):\n",
        "        x = F.relu(self.conv1(data.x, data.edge_index))\n",
        "        x = F.relu(self.conv2(x, data.edge_index))\n",
        "        s, d = data.edge_index\n",
        "        z = torch.cat([x[s], x[d], data.edge_attr, self.sym_enc(edge_sym)], dim=1)\n",
        "        return self.mlp(z).squeeze(-1)\n",
        "\n",
        "\n",
        "sym_model = EdgeGNN_Symbolic(\n",
        "    in_node=node_x.size(1),\n",
        "    in_edge=edge_attr.size(1),\n",
        "    in_sym=edge_sym.size(1),\n",
        "    conv_type ='gat' ### to change GNN variant change the conv_type\n",
        ").to(device)\n",
        "\n",
        "\n"
      ],
      "metadata": {
        "id": "3n85k_B5wO28"
      },
      "execution_count": null,
      "outputs": []
    },
    {
      "cell_type": "code",
      "source": [
        "@torch.no_grad()\n",
        "def eval_logits(logits, mask, y_true):\n",
        "    probs = torch.sigmoid(logits).detach().cpu().numpy()\n",
        "    m = mask.detach().cpu().numpy()\n",
        "    yt = y_true.detach().cpu().numpy()[m]\n",
        "\n",
        "    pr_auc = average_precision_score(yt, probs[m])\n",
        "    prec, rec, thr = precision_recall_curve(yt, probs[m])\n",
        "\n",
        "    f1 = 2 * prec * rec / (prec + rec + 1e-12)\n",
        "    bi = f1.argmax()\n",
        "    threshold = thr[bi - 1] if bi > 0 else 0.5\n",
        "\n",
        "    yp = (probs[m] >= threshold).astype(int)\n",
        "    report = classification_report(yt, yp, digits=4)\n",
        "\n",
        "    return pr_auc, threshold, report\n"
      ],
      "metadata": {
        "id": "_PbgazRHnVZA"
      },
      "execution_count": null,
      "outputs": []
    },
    {
      "cell_type": "code",
      "source": [
        "device = torch.device('cuda' if torch.cuda.is_available() else 'cpu')\n",
        "\n",
        "# Move everything to same device\n",
        "data = data.to(device)\n",
        "edge_sym = edge_sym.to(device)\n",
        "edge_label = edge_label.to(device)\n",
        "train_mask = train_mask.to(device)\n",
        "val_mask = val_mask.to(device)\n",
        "test_mask = test_mask.to(device)\n"
      ],
      "metadata": {
        "id": "Wj_706Q5_D1I"
      },
      "execution_count": null,
      "outputs": []
    },
    {
      "cell_type": "code",
      "source": [
        "\n",
        "EPOCHS = 100\n",
        "alpha = 0.1  # regularization weight on rule confidence\n",
        "\n",
        "opt = torch.optim.Adam(sym_model.parameters(), lr=1e-3, weight_decay=1e-4)\n",
        "\n",
        "for e in range(1, EPOCHS + 1):\n",
        "    sym_model.train()\n",
        "    opt.zero_grad()\n",
        "    logits = sym_model(data, edge_sym)\n",
        "    ce = bce(logits[train_mask], edge_label[train_mask].float())\n",
        "    p = torch.sigmoid(logits)\n",
        "    rl = torch.mean(torch.abs(p[train_mask] - rule_conf[train_mask]))  # soft align\n",
        "    loss = ce + alpha * rl\n",
        "    loss.backward()\n",
        "    nn.utils.clip_grad_norm_(sym_model.parameters(), 1.0)\n",
        "    opt.step()\n",
        "\n",
        "    if e == 1 or e % 5 == 0:\n",
        "        sym_model.eval()\n",
        "        with torch.no_grad():\n",
        "            val_logits = sym_model(data, edge_sym)\n",
        "        pr_auc, thr, _ = eval_logits(val_logits, val_mask, edge_label)\n",
        "        print(f\"[SYM ] Ep{e:02d} loss={loss.item():.4f} (ce={ce.item():.4f}, rl={rl.item():.4f}) | val PR-AUC={pr_auc:.4f}\")"
      ],
      "metadata": {
        "colab": {
          "base_uri": "https://localhost:8080/"
        },
        "id": "VwSk-5WosEpb",
        "outputId": "21d86fda-b0df-4b86-c639-9bdf549895d1"
      },
      "execution_count": null,
      "outputs": [
        {
          "output_type": "stream",
          "name": "stdout",
          "text": [
            "[SYM ] Ep01 loss=1.4033 (ce=1.3621, rl=0.4121) | val PR-AUC=0.3500\n",
            "[SYM ] Ep05 loss=1.2781 (ce=1.2371, rl=0.4106) | val PR-AUC=0.4083\n",
            "[SYM ] Ep10 loss=1.1767 (ce=1.1349, rl=0.4178) | val PR-AUC=0.4206\n",
            "[SYM ] Ep15 loss=1.0860 (ce=1.0418, rl=0.4421) | val PR-AUC=0.4249\n",
            "[SYM ] Ep20 loss=1.0030 (ce=0.9543, rl=0.4870) | val PR-AUC=0.4348\n",
            "[SYM ] Ep25 loss=0.9262 (ce=0.8718, rl=0.5437) | val PR-AUC=0.4475\n",
            "[SYM ] Ep30 loss=0.8613 (ce=0.8030, rl=0.5832) | val PR-AUC=0.4669\n",
            "[SYM ] Ep35 loss=0.8029 (ce=0.7437, rl=0.5920) | val PR-AUC=0.4862\n",
            "[SYM ] Ep40 loss=0.7510 (ce=0.6896, rl=0.6143) | val PR-AUC=0.5053\n",
            "[SYM ] Ep45 loss=0.7059 (ce=0.6417, rl=0.6422) | val PR-AUC=0.5184\n",
            "[SYM ] Ep50 loss=0.6543 (ce=0.5891, rl=0.6522) | val PR-AUC=0.5327\n",
            "[SYM ] Ep55 loss=0.6193 (ce=0.5518, rl=0.6745) | val PR-AUC=0.5465\n",
            "[SYM ] Ep60 loss=0.5842 (ce=0.5157, rl=0.6855) | val PR-AUC=0.5599\n",
            "[SYM ] Ep65 loss=0.5402 (ce=0.4700, rl=0.7015) | val PR-AUC=0.5739\n",
            "[SYM ] Ep70 loss=0.5080 (ce=0.4363, rl=0.7167) | val PR-AUC=0.5898\n",
            "[SYM ] Ep75 loss=0.4743 (ce=0.4013, rl=0.7297) | val PR-AUC=0.6053\n",
            "[SYM ] Ep80 loss=0.4463 (ce=0.3724, rl=0.7394) | val PR-AUC=0.6216\n",
            "[SYM ] Ep85 loss=0.4194 (ce=0.3442, rl=0.7520) | val PR-AUC=0.6368\n",
            "[SYM ] Ep90 loss=0.3966 (ce=0.3205, rl=0.7606) | val PR-AUC=0.6523\n",
            "[SYM ] Ep95 loss=0.3767 (ce=0.2993, rl=0.7736) | val PR-AUC=0.6655\n",
            "[SYM ] Ep100 loss=0.3571 (ce=0.2795, rl=0.7763) | val PR-AUC=0.6777\n"
          ]
        }
      ]
    },
    {
      "cell_type": "code",
      "source": [
        "from sklearn.metrics import classification_report, accuracy_score, roc_auc_score\n",
        "# ------------------------------\n",
        "sym_model.eval()\n",
        "with torch.no_grad():\n",
        "    test_logits = sym_model(data, edge_sym)\n",
        "    probs = torch.sigmoid(test_logits)  # probabilities\n",
        "    true_labels = edge_label[test_mask].cpu()\n",
        "    probs_test = probs[test_mask].cpu()\n",
        "\n",
        "# Get threshold and PR-AUC\n",
        "pr_auc, thr, _ = eval_logits(test_logits, test_mask, edge_label)\n",
        "\n",
        "# Convert probabilities to predicted labels using threshold\n",
        "pred_labels = (probs_test >= thr).int()\n",
        "\n",
        "# Classification report\n",
        "rep = classification_report(true_labels, pred_labels, digits=4)\n",
        "acc = accuracy_score(true_labels, pred_labels)\n",
        "roc_auc = roc_auc_score(true_labels, probs_test)\n",
        "\n",
        "# Print results\n",
        "print(f\"\\n[SYM ] Test PR-AUC: {pr_auc:.4f} | Threshold: {thr:.4f}\")\n",
        "print(rep)\n",
        "print(f\"Accuracy = {acc:.4f}\")\n",
        "print(f\"ROC Curve AUC = {roc_auc:.4f}\")"
      ],
      "metadata": {
        "colab": {
          "base_uri": "https://localhost:8080/"
        },
        "id": "alygMM9JwWBC",
        "outputId": "a7ea4d6e-a88d-40de-8f70-735b98731762"
      },
      "execution_count": null,
      "outputs": [
        {
          "output_type": "stream",
          "name": "stdout",
          "text": [
            "\n",
            "[SYM ] Test PR-AUC: 0.6689 | Threshold: 0.9744\n",
            "              precision    recall  f1-score   support\n",
            "\n",
            "           0     0.9994    0.9999    0.9997     99871\n",
            "           1     0.8846    0.5349    0.6667       129\n",
            "\n",
            "    accuracy                         0.9993    100000\n",
            "   macro avg     0.9420    0.7674    0.8332    100000\n",
            "weighted avg     0.9993    0.9993    0.9992    100000\n",
            "\n",
            "Accuracy = 0.9993\n",
            "ROC Curve AUC = 0.9911\n"
          ]
        }
      ]
    },
    {
      "cell_type": "code",
      "source": [
        "\n",
        "from sklearn.metrics import roc_curve, roc_auc_score\n",
        "\n",
        "probs = torch.sigmoid(test_logits).cpu().numpy()\n",
        "y_true = edge_label.cpu().numpy()\n",
        "mask = test_mask.cpu().numpy()\n",
        "\n",
        "probs_test = probs[mask]\n",
        "y_true_test = y_true[mask]\n",
        "\n",
        "y_pred = (probs_test >= thr).astype(int)\n",
        "\n",
        "# Confusion matrix\n",
        "cm = confusion_matrix(y_true_test, y_pred)\n",
        "plt.figure(figsize=(6,5))\n",
        "sns.heatmap(cm, annot=True, fmt='d', cmap='Blues',\n",
        "            xticklabels=['No Fraud','Fraud'], yticklabels=['No Fraud','Fraud'])\n",
        "plt.title('Confusion Matrix on Test Set')\n",
        "plt.xlabel('Predicted Label')\n",
        "plt.ylabel('True Label')\n",
        "plt.savefig('confusion_matrix_paysim.png')  # Save image\n",
        "plt.show()\n",
        "\n",
        "# Precision-Recall curve\n",
        "precision, recall, thresholds = precision_recall_curve(y_true_test, probs_test)\n",
        "ap = average_precision_score(y_true_test, probs_test)\n",
        "\n",
        "plt.figure(figsize=(8,6))\n",
        "plt.plot(recall, precision, label=f'PR Curve (AP={ap:.4f})')\n",
        "try:\n",
        "    idx = (thresholds >= thr).argmax()\n",
        "    plt.scatter(recall[idx], precision[idx], color='red', label=f'Threshold {thr:.3f}')\n",
        "except:\n",
        "    pass\n",
        "plt.xlabel('Recall')\n",
        "plt.ylabel('Precision')\n",
        "plt.title('Precision-Recall Curve on Test Set')\n",
        "plt.legend()\n",
        "plt.savefig('precision_recall_curve_paysim.png')  # Save image\n",
        "plt.show()\n",
        "\n",
        "fpr, tpr, roc_thresholds = roc_curve(y_true_test, probs_test)\n",
        "roc_auc = roc_auc_score(y_true_test, probs_test)\n",
        "\n",
        "plt.figure(figsize=(8,6))\n",
        "plt.plot(fpr, tpr, label=f'ROC Curve (AUC={roc_auc:.4f})')\n",
        "plt.plot([0,1], [0,1], 'k--', label='Random Guess')\n",
        "plt.xlabel('False Positive Rate')\n",
        "plt.ylabel('True Positive Rate')\n",
        "plt.title('ROC Curve on Test Set')\n",
        "plt.legend()\n",
        "plt.savefig('roc_curve_paysim.png')  # Save ROC curve image\n",
        "plt.show()\n",
        "print(f'ROC Curve AUC = {roc_auc:.4f}')"
      ],
      "metadata": {
        "colab": {
          "base_uri": "https://localhost:8080/",
          "height": 1000
        },
        "id": "5Ll0VHD3v_w1",
        "outputId": "949b1101-d062-46e8-9185-e1ac8980c64f"
      },
      "execution_count": null,
      "outputs": [
        {
          "output_type": "display_data",
          "data": {
            "text/plain": [
              "<Figure size 600x500 with 2 Axes>"
            ],
            "image/png": "[encoded data removed]"
          },
          "metadata": {}
        },
        {
          "output_type": "display_data",
          "data": {
            "text/plain": [
              "<Figure size 800x600 with 1 Axes>"
            ],
            "image/png": "[encoded data removed]"
          },
          "metadata": {}
        },
        {
          "output_type": "display_data",
          "data": {
            "text/plain": [
              "<Figure size 800x600 with 1 Axes>"
            ],
            "image/png": "[encoded data removed]"
          },
          "metadata": {}
        },
        {
          "output_type": "stream",
          "name": "stdout",
          "text": [
            "ROC Curve AUC = 0.9911\n"
          ]
        }
      ]
    },
    {
      "cell_type": "code",
      "source": [
        "\n",
        "cm = confusion_matrix(y_true_test, y_pred)\n",
        "tn, fp, fn, tp = cm.ravel()\n",
        "\n",
        "print(f\"True Negatives: {tn}\")\n",
        "print(f\"False Positives: {fp}\")\n",
        "print(f\"False Negatives: {fn}\")\n",
        "print(f\"True Positives: {tp}\")\n"
      ],
      "metadata": {
        "colab": {
          "base_uri": "https://localhost:8080/"
        },
        "id": "X8jcTfZo8AW2",
        "outputId": "5af74d18-a258-4cd8-eab2-28454cabda1f"
      },
      "execution_count": null,
      "outputs": [
        {
          "output_type": "stream",
          "name": "stdout",
          "text": [
            "True Negatives: 99862\n",
            "False Positives: 9\n",
            "False Negatives: 60\n",
            "True Positives: 69\n"
          ]
        }
      ]
    },
    {
      "cell_type": "code",
      "source": [
        "test_fraud_count = edge_label[test_mask].sum().item()\n",
        "test_total_count = test_mask.sum().item()\n",
        "test_nonfraud_count = test_total_count - test_fraud_count\n",
        "\n",
        "print(f\"Test fraud cases: {test_fraud_count}\")\n",
        "print(f\"Test non-fraud cases: {test_nonfraud_count}\")\n"
      ],
      "metadata": {
        "colab": {
          "base_uri": "https://localhost:8080/"
        },
        "id": "IWyjElvE4f5x",
        "outputId": "764d50e2-0b2a-428f-dc22-816645c8e13f"
      },
      "execution_count": null,
      "outputs": [
        {
          "output_type": "stream",
          "name": "stdout",
          "text": [
            "Test fraud cases: 129\n",
            "Test non-fraud cases: 99871\n"
          ]
        }
      ]
    },
    {
      "cell_type": "code",
      "source": [
        "# Train set counts\n",
        "train_fraud_count = edge_label[train_mask].sum().item()\n",
        "train_total_count = train_mask.sum().item()\n",
        "train_nonfraud_count = train_total_count - train_fraud_count\n",
        "print(f\"Train fraud cases: {train_fraud_count}\")\n",
        "print(f\"Train non-fraud cases: {train_nonfraud_count}\")\n",
        "\n",
        "# Test set counts\n",
        "test_fraud_count = edge_label[test_mask].sum().item()\n",
        "test_total_count = test_mask.sum().item()\n",
        "test_nonfraud_count = test_total_count - test_fraud_count\n",
        "print(f\"Test fraud cases: {test_fraud_count}\")\n",
        "print(f\"Test non-fraud cases: {test_nonfraud_count}\")\n"
      ],
      "metadata": {
        "colab": {
          "base_uri": "https://localhost:8080/"
        },
        "id": "JdP3tDCB4lw_",
        "outputId": "baf2383d-eacf-4ab9-bc23-8bd69ada81b9"
      },
      "execution_count": null,
      "outputs": [
        {
          "output_type": "stream",
          "name": "stdout",
          "text": [
            "Train fraud cases: 413\n",
            "Train non-fraud cases: 319587\n",
            "Test fraud cases: 129\n",
            "Test non-fraud cases: 99871\n"
          ]
        }
      ]
    },
    {
      "cell_type": "code",
      "source": [
        "# -- Step 1: Extract symbolic rules from edges --\n",
        "\n",
        "def extract_edge_rules(symbolic_df: pd.DataFrame, y: pd.Series, min_diff=0.1):\n",
        "    rules = {}\n",
        "    sym_cols = list(symbolic_df.columns)\n",
        "    fraud = symbolic_df[y==1]\n",
        "    normal = symbolic_df[y==0]\n",
        "\n",
        "    for c in sym_cols:\n",
        "        f_true = fraud[c].mean() if len(fraud) > 0 else 0\n",
        "        n_true = normal[c].mean() if len(normal) > 0 else 0\n",
        "        diff = f_true - n_true\n",
        "        if diff > min_diff:\n",
        "            sign = 1\n",
        "            rules[f\"IF {c} THEN Fraud\"] = {\n",
        "                'confidence': float(f_true),\n",
        "                'support': float((fraud[c]==1).mean() if len(fraud)>0 else 0),\n",
        "                'lift': float(f_true / (n_true + 1e-8)),\n",
        "                'sign': sign\n",
        "            }\n",
        "        elif diff < -min_diff:\n",
        "            sign = -1\n",
        "            rules[f\"IF {c} THEN Fraud\"] = {\n",
        "                'confidence': float(f_true),\n",
        "                'support': float((fraud[c]==1).mean() if len(fraud)>0 else 0),\n",
        "                'lift': float(f_true / (n_true + 1e-8)),\n",
        "                'sign': sign\n",
        "            }\n",
        "    rules = dict(sorted(rules.items(), key=lambda kv: abs(kv[1]['lift']), reverse=True))\n",
        "    return rules\n",
        "\n",
        "rules = extract_edge_rules(sym_df, df['isFraud'])\n",
        "print(\"Top 10 symbolic edge rules:\")\n",
        "for i, (r, info) in enumerate(list(rules.items())[:10]):\n",
        "    print(f\"{i+1:02d}. {r} | conf={info['confidence']:.3f}, lift={info['lift']:.2f}\")\n",
        "\n"
      ],
      "metadata": {
        "colab": {
          "base_uri": "https://localhost:8080/"
        },
        "id": "cSeZrzuYOzhA",
        "outputId": "3c46fa5d-1fe9-4bcf-87c4-dcf1697d390b"
      },
      "execution_count": null,
      "outputs": [
        {
          "output_type": "stream",
          "name": "stdout",
          "text": [
            "Top 10 symbolic edge rules:\n",
            "01. IF Sym_VeryHighAmount THEN Fraud | conf=0.242, lift=24.93\n",
            "02. IF Sym_NightHour THEN Fraud | conf=0.293, lift=16.25\n",
            "03. IF Sym_LargeDestJump THEN Fraud | conf=0.112, lift=11.31\n",
            "04. IF Sym_HighAmount THEN Fraud | conf=0.445, lift=8.99\n",
            "05. IF Sym_Drain THEN Fraud | conf=0.989, lift=5.32\n",
            "06. IF Sym_RiskyType THEN Fraud | conf=1.000, lift=2.30\n",
            "07. IF Sym_ZeroBalanceDestAndAmount THEN Fraud | conf=0.505, lift=1.39\n"
          ]
        }
      ]
    },
    {
      "cell_type": "code",
      "source": [
        "# -- Step 2: Compute per-edge max rule confidence --\n",
        "\n",
        "sym_mat = sym_df.values.astype(np.float32)\n",
        "col_index = {c:i for i,c in enumerate(sym_df.columns)}\n",
        "rule_list = [(r, info) for r, info in rules.items() if r.startswith('IF ')]\n",
        "\n",
        "edge_rule_conf = np.zeros(len(sym_df), dtype=np.float32)\n",
        "for r, info in rule_list:\n",
        "    feat = r.split()[1]\n",
        "    j = col_index.get(feat, None)\n",
        "    if j is None:\n",
        "        continue\n",
        "    active = sym_mat[:, j] > 0.5\n",
        "    edge_rule_conf[active] = np.maximum(edge_rule_conf[active], info['confidence'])\n",
        "\n",
        "edge_rule_conf = torch.from_numpy(edge_rule_conf).to(device)\n",
        "print(\"Computed per-edge rule confidences.\")\n"
      ],
      "metadata": {
        "colab": {
          "base_uri": "https://localhost:8080/"
        },
        "id": "XBTmki-wO9FA",
        "outputId": "d85d13b9-6b16-4ddc-e1e2-91436149ca17"
      },
      "execution_count": null,
      "outputs": [
        {
          "output_type": "stream",
          "name": "stdout",
          "text": [
            "Computed per-edge rule confidences.\n"
          ]
        }
      ]
    },
    {
      "cell_type": "code",
      "source": [
        "idx_to_feat = np.array(sym_df.columns)\n",
        "\n",
        "def explain_edges(indices, top_rules=5):\n",
        "    sym_model.eval()\n",
        "    with torch.no_grad():\n",
        "        logits = sym_model(data, edge_sym)\n",
        "        probs = torch.sigmoid(logits).detach().cpu().numpy()\n",
        "\n",
        "    for i in indices:\n",
        "        feat_vals = sym_mat[i]\n",
        "        active_feats = idx_to_feat[feat_vals > 0.5]\n",
        "        active_rules = []\n",
        "        for r, info in rules.items():\n",
        "            feat = r.split()[1]\n",
        "            if feat in active_feats:\n",
        "                active_rules.append((r, info['confidence']))\n",
        "        active_rules.sort(key=lambda t: -t[1])\n",
        "\n",
        "        print(f\"\\nEdge {i} | True label={int(edge_label[i].item())} | P(fraud)={probs[i]:.3f}\")\n",
        "        print(\"Active symbolic features:\", list(active_feats))\n",
        "        print(\"Top triggered symbolic rules:\")\n",
        "        for r, c in active_rules[:top_rules]:\n",
        "            print(f\"  - {r} (conf={c:.3f})\")\n",
        "\n",
        "# Example: explain 3 random test edges\n",
        "import numpy as np\n",
        "test_indices = np.random.choice(np.where(test_mask.cpu().numpy())[0], size=3, replace=False)\n",
        "explain_edges(test_indices)\n"
      ],
      "metadata": {
        "colab": {
          "base_uri": "https://localhost:8080/"
        },
        "id": "qluu86DrO_6w",
        "outputId": "ddc538b6-08a3-40f0-9fb5-2fbccd73ed1e"
      },
      "execution_count": null,
      "outputs": [
        {
          "output_type": "stream",
          "name": "stdout",
          "text": [
            "\n",
            "Edge 402490 | True label=0 | P(fraud)=0.177\n",
            "Active symbolic features: ['Sym_AmountInFraudRange', 'Sym_ZeroBalanceDestAndAmount']\n",
            "Top triggered symbolic rules:\n",
            "  - IF Sym_ZeroBalanceDestAndAmount THEN Fraud (conf=0.505)\n",
            "\n",
            "Edge 157470 | True label=0 | P(fraud)=0.038\n",
            "Active symbolic features: ['Sym_AmountInFraudRange', 'Sym_DupReceiver']\n",
            "Top triggered symbolic rules:\n",
            "\n",
            "Edge 81839 | True label=0 | P(fraud)=0.295\n",
            "Active symbolic features: ['Sym_AmountInFraudRange', 'Sym_RiskyType']\n",
            "Top triggered symbolic rules:\n",
            "  - IF Sym_RiskyType THEN Fraud (conf=1.000)\n"
          ]
        }
      ]
    }
  ]
}